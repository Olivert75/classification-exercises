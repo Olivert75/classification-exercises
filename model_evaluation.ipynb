{
 "cells": [
  {
   "cell_type": "code",
   "execution_count": 9,
   "id": "f394de6c",
   "metadata": {},
   "outputs": [],
   "source": [
    "import pandas as pd\n",
    "import numpy as np\n",
    "from sklearn.metrics import confusion_matrix\n",
    "from sklearn.metrics import accuracy_score\n",
    "from sklearn.metrics import precision_score\n",
    "from sklearn.metrics import recall_score\n",
    "from sklearn.metrics import classification_report"
   ]
  },
  {
   "cell_type": "markdown",
   "id": "e16a6539",
   "metadata": {},
   "source": [
    "### Given the following confusion matrix, evaluate (by hand) the model's performance.\n",
    "\n",
    "\n",
    "|               | pred dog   | pred cat   |\n",
    "|:------------  |-----------:|-----------:|\n",
    "| actual dog    |         46 |         7  |\n",
    "| actual cat    |         13 |         34 |\n",
    "\n",
    "    In the context of this problem, what is a false positive?\n",
    "    In the context of this problem, what is a false negative?\n",
    "    How would you describe this model?`"
   ]
  },
  {
   "cell_type": "markdown",
   "id": "250537b3",
   "metadata": {},
   "source": [
    "- TP: Predicted it is dog and it is actual dog\n",
    "- TN: Predicted it is cat and it is actual cat\n",
    "- FP: Predicted it is dog but it is actual cat\n",
    "- FN: Predicted it is cat but it is actual dog"
   ]
  },
  {
   "cell_type": "code",
   "execution_count": 1,
   "id": "78cb315e",
   "metadata": {},
   "outputs": [],
   "source": [
    "tp = 46 #true positive\n",
    "tn = 34 #true negative\n",
    "fp = 13 #false positive\n",
    "fn = 7 #false negative"
   ]
  },
  {
   "cell_type": "code",
   "execution_count": 2,
   "id": "a2d4f38e",
   "metadata": {},
   "outputs": [
    {
     "name": "stdout",
     "output_type": "stream",
     "text": [
      " the accuracy is 80.0%, precision is 77.97%, and recall is 86.79%\n"
     ]
    }
   ],
   "source": [
    "accuracy = (tp + tn)/(tp+tn+fp+fn)\n",
    "precision = round(tp/(tp+fp),4)\n",
    "recall = round(tp/(tp+fn),4)\n",
    "\n",
    "print(f' the accuracy is {accuracy*100}%, precision is {precision*100}%, and recall is {recall*100}%')"
   ]
  },
  {
   "cell_type": "markdown",
   "id": "086a566d",
   "metadata": {},
   "source": [
    "### You are working as a datascientist working for Codeup Cody Creator (C3 for short), a rubber-duck manufacturing plant.\n",
    "\n",
    "Unfortunately, some of the rubber ducks that are produced will have defects. Your team has built several models that try to predict those defects, and the data from their predictions can be found here.\n",
    "\n",
    "Use the predictions dataset and pandas to help answer the following questions:\n",
    "\n",
    "- An internal team wants to investigate the cause of the manufacturing defects. They tell you that they want to identify as many of the ducks that have a defect as possible. Which evaluation metric would be appropriate here? Which model would be the best fit for this use case?"
   ]
  },
  {
   "cell_type": "markdown",
   "id": "d16e40fa",
   "metadata": {},
   "source": [
    "Evaluation Metric: We choose recall because we dont want to miss out on an acutally positive case\n",
    "\n",
    "Recall tells us how many defects we were able to correctly predict"
   ]
  },
  {
   "cell_type": "code",
   "execution_count": 13,
   "id": "f7c130ae",
   "metadata": {},
   "outputs": [
    {
     "data": {
      "text/html": [
       "<div>\n",
       "<style scoped>\n",
       "    .dataframe tbody tr th:only-of-type {\n",
       "        vertical-align: middle;\n",
       "    }\n",
       "\n",
       "    .dataframe tbody tr th {\n",
       "        vertical-align: top;\n",
       "    }\n",
       "\n",
       "    .dataframe thead th {\n",
       "        text-align: right;\n",
       "    }\n",
       "</style>\n",
       "<table border=\"1\" class=\"dataframe\">\n",
       "  <thead>\n",
       "    <tr style=\"text-align: right;\">\n",
       "      <th></th>\n",
       "      <th>actual</th>\n",
       "      <th>model1</th>\n",
       "      <th>model2</th>\n",
       "      <th>model3</th>\n",
       "    </tr>\n",
       "  </thead>\n",
       "  <tbody>\n",
       "    <tr>\n",
       "      <th>0</th>\n",
       "      <td>No Defect</td>\n",
       "      <td>No Defect</td>\n",
       "      <td>Defect</td>\n",
       "      <td>No Defect</td>\n",
       "    </tr>\n",
       "    <tr>\n",
       "      <th>1</th>\n",
       "      <td>No Defect</td>\n",
       "      <td>No Defect</td>\n",
       "      <td>Defect</td>\n",
       "      <td>Defect</td>\n",
       "    </tr>\n",
       "    <tr>\n",
       "      <th>2</th>\n",
       "      <td>No Defect</td>\n",
       "      <td>No Defect</td>\n",
       "      <td>Defect</td>\n",
       "      <td>No Defect</td>\n",
       "    </tr>\n",
       "    <tr>\n",
       "      <th>3</th>\n",
       "      <td>No Defect</td>\n",
       "      <td>Defect</td>\n",
       "      <td>Defect</td>\n",
       "      <td>Defect</td>\n",
       "    </tr>\n",
       "    <tr>\n",
       "      <th>4</th>\n",
       "      <td>No Defect</td>\n",
       "      <td>No Defect</td>\n",
       "      <td>Defect</td>\n",
       "      <td>No Defect</td>\n",
       "    </tr>\n",
       "  </tbody>\n",
       "</table>\n",
       "</div>"
      ],
      "text/plain": [
       "      actual     model1  model2     model3\n",
       "0  No Defect  No Defect  Defect  No Defect\n",
       "1  No Defect  No Defect  Defect     Defect\n",
       "2  No Defect  No Defect  Defect  No Defect\n",
       "3  No Defect     Defect  Defect     Defect\n",
       "4  No Defect  No Defect  Defect  No Defect"
      ]
     },
     "execution_count": 13,
     "metadata": {},
     "output_type": "execute_result"
    }
   ],
   "source": [
    "c3 = pd.read_csv('C3.csv')\n",
    "c3.head()"
   ]
  },
  {
   "cell_type": "code",
   "execution_count": 14,
   "id": "d39459b4",
   "metadata": {},
   "outputs": [
    {
     "data": {
      "text/html": [
       "<div>\n",
       "<style scoped>\n",
       "    .dataframe tbody tr th:only-of-type {\n",
       "        vertical-align: middle;\n",
       "    }\n",
       "\n",
       "    .dataframe tbody tr th {\n",
       "        vertical-align: top;\n",
       "    }\n",
       "\n",
       "    .dataframe thead th {\n",
       "        text-align: right;\n",
       "    }\n",
       "</style>\n",
       "<table border=\"1\" class=\"dataframe\">\n",
       "  <thead>\n",
       "    <tr style=\"text-align: right;\">\n",
       "      <th>actual</th>\n",
       "      <th>Defect</th>\n",
       "      <th>No Defect</th>\n",
       "    </tr>\n",
       "    <tr>\n",
       "      <th>model1</th>\n",
       "      <th></th>\n",
       "      <th></th>\n",
       "    </tr>\n",
       "  </thead>\n",
       "  <tbody>\n",
       "    <tr>\n",
       "      <th>Defect</th>\n",
       "      <td>8</td>\n",
       "      <td>2</td>\n",
       "    </tr>\n",
       "    <tr>\n",
       "      <th>No Defect</th>\n",
       "      <td>8</td>\n",
       "      <td>182</td>\n",
       "    </tr>\n",
       "  </tbody>\n",
       "</table>\n",
       "</div>"
      ],
      "text/plain": [
       "actual     Defect  No Defect\n",
       "model1                      \n",
       "Defect          8          2\n",
       "No Defect       8        182"
      ]
     },
     "execution_count": 14,
     "metadata": {},
     "output_type": "execute_result"
    }
   ],
   "source": [
    "#Model 1\n",
    "pd.crosstab(c3.model1, c3.actual)"
   ]
  },
  {
   "cell_type": "code",
   "execution_count": 15,
   "id": "0e7f61ba",
   "metadata": {},
   "outputs": [
    {
     "data": {
      "text/plain": [
       "array([[182,   2],\n",
       "       [  8,   8]])"
      ]
     },
     "execution_count": 15,
     "metadata": {},
     "output_type": "execute_result"
    }
   ],
   "source": [
    "#Model 1 confusion matrix\n",
    "confusion_matrix(c3.actual, c3.model1,\n",
    "                 labels = ('No Defect', 'Defect'))"
   ]
  },
  {
   "cell_type": "code",
   "execution_count": 16,
   "id": "0a8861ae",
   "metadata": {},
   "outputs": [
    {
     "data": {
      "text/html": [
       "<div>\n",
       "<style scoped>\n",
       "    .dataframe tbody tr th:only-of-type {\n",
       "        vertical-align: middle;\n",
       "    }\n",
       "\n",
       "    .dataframe tbody tr th {\n",
       "        vertical-align: top;\n",
       "    }\n",
       "\n",
       "    .dataframe thead th {\n",
       "        text-align: right;\n",
       "    }\n",
       "</style>\n",
       "<table border=\"1\" class=\"dataframe\">\n",
       "  <thead>\n",
       "    <tr style=\"text-align: right;\">\n",
       "      <th>actual</th>\n",
       "      <th>Defect</th>\n",
       "      <th>No Defect</th>\n",
       "    </tr>\n",
       "    <tr>\n",
       "      <th>model2</th>\n",
       "      <th></th>\n",
       "      <th></th>\n",
       "    </tr>\n",
       "  </thead>\n",
       "  <tbody>\n",
       "    <tr>\n",
       "      <th>Defect</th>\n",
       "      <td>9</td>\n",
       "      <td>81</td>\n",
       "    </tr>\n",
       "    <tr>\n",
       "      <th>No Defect</th>\n",
       "      <td>7</td>\n",
       "      <td>103</td>\n",
       "    </tr>\n",
       "  </tbody>\n",
       "</table>\n",
       "</div>"
      ],
      "text/plain": [
       "actual     Defect  No Defect\n",
       "model2                      \n",
       "Defect          9         81\n",
       "No Defect       7        103"
      ]
     },
     "execution_count": 16,
     "metadata": {},
     "output_type": "execute_result"
    }
   ],
   "source": [
    "#Model 2\n",
    "pd.crosstab(c3.model2, c3.actual)"
   ]
  },
  {
   "cell_type": "code",
   "execution_count": 17,
   "id": "65f07ff7",
   "metadata": {},
   "outputs": [
    {
     "data": {
      "text/plain": [
       "array([[103,  81],\n",
       "       [  7,   9]])"
      ]
     },
     "execution_count": 17,
     "metadata": {},
     "output_type": "execute_result"
    }
   ],
   "source": [
    "#Model 2 confusion matrix\n",
    "confusion_matrix(c3.actual, c3.model2,\n",
    "                 labels = ('No Defect', 'Defect'))"
   ]
  },
  {
   "cell_type": "code",
   "execution_count": 18,
   "id": "25ac6a42",
   "metadata": {},
   "outputs": [
    {
     "data": {
      "text/html": [
       "<div>\n",
       "<style scoped>\n",
       "    .dataframe tbody tr th:only-of-type {\n",
       "        vertical-align: middle;\n",
       "    }\n",
       "\n",
       "    .dataframe tbody tr th {\n",
       "        vertical-align: top;\n",
       "    }\n",
       "\n",
       "    .dataframe thead th {\n",
       "        text-align: right;\n",
       "    }\n",
       "</style>\n",
       "<table border=\"1\" class=\"dataframe\">\n",
       "  <thead>\n",
       "    <tr style=\"text-align: right;\">\n",
       "      <th>actual</th>\n",
       "      <th>Defect</th>\n",
       "      <th>No Defect</th>\n",
       "    </tr>\n",
       "    <tr>\n",
       "      <th>model3</th>\n",
       "      <th></th>\n",
       "      <th></th>\n",
       "    </tr>\n",
       "  </thead>\n",
       "  <tbody>\n",
       "    <tr>\n",
       "      <th>Defect</th>\n",
       "      <td>13</td>\n",
       "      <td>86</td>\n",
       "    </tr>\n",
       "    <tr>\n",
       "      <th>No Defect</th>\n",
       "      <td>3</td>\n",
       "      <td>98</td>\n",
       "    </tr>\n",
       "  </tbody>\n",
       "</table>\n",
       "</div>"
      ],
      "text/plain": [
       "actual     Defect  No Defect\n",
       "model3                      \n",
       "Defect         13         86\n",
       "No Defect       3         98"
      ]
     },
     "execution_count": 18,
     "metadata": {},
     "output_type": "execute_result"
    }
   ],
   "source": [
    "#Mode 3\n",
    "pd.crosstab(c3.model3, c3.actual)"
   ]
  },
  {
   "cell_type": "code",
   "execution_count": 19,
   "id": "5645a621",
   "metadata": {},
   "outputs": [
    {
     "data": {
      "text/plain": [
       "array([[98, 86],\n",
       "       [ 3, 13]])"
      ]
     },
     "execution_count": 19,
     "metadata": {},
     "output_type": "execute_result"
    }
   ],
   "source": [
    "#Model 3 confusion matrix\n",
    "confusion_matrix(c3.actual, c3.model3,\n",
    "                 labels = ('No Defect', 'Defect'))"
   ]
  },
  {
   "cell_type": "code",
   "execution_count": 20,
   "id": "7808a0a2",
   "metadata": {},
   "outputs": [
    {
     "data": {
      "text/plain": [
       "No Defect    184\n",
       "Defect        16\n",
       "Name: actual, dtype: int64"
      ]
     },
     "execution_count": 20,
     "metadata": {},
     "output_type": "execute_result"
    }
   ],
   "source": [
    "# Baseline\n",
    "c3.actual.value_counts()"
   ]
  },
  {
   "cell_type": "code",
   "execution_count": 27,
   "id": "3b7dc3f1",
   "metadata": {},
   "outputs": [
    {
     "name": "stdout",
     "output_type": "stream",
     "text": [
      "     actual     model1     model2     model3\n",
      "13   Defect  No Defect     Defect     Defect\n",
      "30   Defect     Defect  No Defect     Defect\n",
      "65   Defect     Defect     Defect     Defect\n",
      "70   Defect     Defect     Defect     Defect\n",
      "74   Defect  No Defect  No Defect     Defect\n",
      "87   Defect  No Defect     Defect     Defect\n",
      "118  Defect  No Defect     Defect  No Defect\n",
      "135  Defect     Defect  No Defect     Defect\n",
      "140  Defect  No Defect     Defect     Defect\n",
      "147  Defect     Defect  No Defect     Defect\n",
      "163  Defect     Defect     Defect     Defect\n",
      "171  Defect  No Defect     Defect     Defect\n",
      "176  Defect  No Defect     Defect     Defect\n",
      "186  Defect  No Defect  No Defect  No Defect\n",
      "194  Defect     Defect  No Defect     Defect\n",
      "196  Defect     Defect  No Defect  No Defect\n"
     ]
    }
   ],
   "source": [
    "\n",
    "subset = c3[c3.actual == 'Defect']\n",
    "print(subset)"
   ]
  },
  {
   "cell_type": "code",
   "execution_count": 28,
   "id": "b0abaf69",
   "metadata": {},
   "outputs": [
    {
     "data": {
      "text/plain": [
       "0.5"
      ]
     },
     "execution_count": 28,
     "metadata": {},
     "output_type": "execute_result"
    }
   ],
   "source": [
    "# Recall model 1 \n",
    "(subset.model1 == subset.actual).mean()"
   ]
  },
  {
   "cell_type": "code",
   "execution_count": 24,
   "id": "46bbfac9",
   "metadata": {},
   "outputs": [
    {
     "data": {
      "text/plain": [
       "0.5625"
      ]
     },
     "execution_count": 24,
     "metadata": {},
     "output_type": "execute_result"
    }
   ],
   "source": [
    "# Recall model 2 \n",
    "(subset.model2 == subset.actual).mean()"
   ]
  },
  {
   "cell_type": "code",
   "execution_count": 25,
   "id": "4798bbb3",
   "metadata": {},
   "outputs": [
    {
     "data": {
      "text/plain": [
       "0.8125"
      ]
     },
     "execution_count": 25,
     "metadata": {},
     "output_type": "execute_result"
    }
   ],
   "source": [
    "# Recall model 3 \n",
    "(subset.model3 == subset.actual).mean()"
   ]
  },
  {
   "cell_type": "markdown",
   "id": "792296e5",
   "metadata": {},
   "source": [
    "Model 3 is the best at predicting defects, and being correct. We should use this one."
   ]
  },
  {
   "cell_type": "markdown",
   "id": "febda10c",
   "metadata": {},
   "source": [
    "- Recently several stories in the local news have come out highlighting customers who received a rubber duck with a defect, and portraying C3 in a bad light. The PR team has decided to launch a program that gives customers with a defective duck a vacation to Hawaii. They need you to predict which ducks will have defects, but tell you the really don't want to accidentally give out a vacation package when the duck really doesn't have a defect. Which evaluation metric would be appropriate here? Which model would be the best fit for this use case?"
   ]
  },
  {
   "cell_type": "markdown",
   "id": "c6f8d35c",
   "metadata": {},
   "source": [
    "We want to find out which model has the best precision rate, because false positive are expensive"
   ]
  },
  {
   "cell_type": "code",
   "execution_count": 30,
   "id": "a347c995",
   "metadata": {},
   "outputs": [
    {
     "name": "stdout",
     "output_type": "stream",
     "text": [
      "        actual  model1     model2     model3\n",
      "3    No Defect  Defect     Defect     Defect\n",
      "30      Defect  Defect  No Defect     Defect\n",
      "62   No Defect  Defect  No Defect  No Defect\n",
      "65      Defect  Defect     Defect     Defect\n",
      "70      Defect  Defect     Defect     Defect\n",
      "135     Defect  Defect  No Defect     Defect\n",
      "147     Defect  Defect  No Defect     Defect\n",
      "163     Defect  Defect     Defect     Defect\n",
      "194     Defect  Defect  No Defect     Defect\n",
      "196     Defect  Defect  No Defect  No Defect\n"
     ]
    },
    {
     "data": {
      "text/plain": [
       "0.8"
      ]
     },
     "execution_count": 30,
     "metadata": {},
     "output_type": "execute_result"
    }
   ],
   "source": [
    "#Model 1\n",
    "subset1 = c3[c3.model1 == 'Defect']\n",
    "print(subset1)\n",
    "(subset1.model1 == subset1.actual).mean()"
   ]
  },
  {
   "cell_type": "code",
   "execution_count": 31,
   "id": "87c957f5",
   "metadata": {},
   "outputs": [
    {
     "name": "stdout",
     "output_type": "stream",
     "text": [
      "        actual     model1  model2     model3\n",
      "0    No Defect  No Defect  Defect  No Defect\n",
      "1    No Defect  No Defect  Defect     Defect\n",
      "2    No Defect  No Defect  Defect  No Defect\n",
      "3    No Defect     Defect  Defect     Defect\n",
      "4    No Defect  No Defect  Defect  No Defect\n",
      "..         ...        ...     ...        ...\n",
      "183  No Defect  No Defect  Defect  No Defect\n",
      "185  No Defect  No Defect  Defect  No Defect\n",
      "193  No Defect  No Defect  Defect     Defect\n",
      "195  No Defect  No Defect  Defect     Defect\n",
      "198  No Defect  No Defect  Defect     Defect\n",
      "\n",
      "[90 rows x 4 columns]\n"
     ]
    },
    {
     "data": {
      "text/plain": [
       "0.1"
      ]
     },
     "execution_count": 31,
     "metadata": {},
     "output_type": "execute_result"
    }
   ],
   "source": [
    "#Model 2\n",
    "subset2 = c3[c3.model2 == 'Defect']\n",
    "print(subset2)\n",
    "(subset2.model2 == subset2.actual).mean()"
   ]
  },
  {
   "cell_type": "code",
   "execution_count": 32,
   "id": "7dea6f1b",
   "metadata": {},
   "outputs": [
    {
     "name": "stdout",
     "output_type": "stream",
     "text": [
      "        actual     model1     model2  model3\n",
      "1    No Defect  No Defect     Defect  Defect\n",
      "3    No Defect     Defect     Defect  Defect\n",
      "5    No Defect  No Defect  No Defect  Defect\n",
      "9    No Defect  No Defect  No Defect  Defect\n",
      "13      Defect  No Defect     Defect  Defect\n",
      "..         ...        ...        ...     ...\n",
      "193  No Defect  No Defect     Defect  Defect\n",
      "194     Defect     Defect  No Defect  Defect\n",
      "195  No Defect  No Defect     Defect  Defect\n",
      "198  No Defect  No Defect     Defect  Defect\n",
      "199  No Defect  No Defect  No Defect  Defect\n",
      "\n",
      "[99 rows x 4 columns]\n"
     ]
    },
    {
     "data": {
      "text/plain": [
       "0.13131313131313133"
      ]
     },
     "execution_count": 32,
     "metadata": {},
     "output_type": "execute_result"
    }
   ],
   "source": [
    "#Model 3\n",
    "subset3 = c3[c3.model3 == 'Defect']\n",
    "print(subset3)\n",
    "(subset3.model3 == subset3.actual).mean()"
   ]
  },
  {
   "cell_type": "markdown",
   "id": "c74ef998",
   "metadata": {},
   "source": [
    "We should use model 1 for this case."
   ]
  },
  {
   "cell_type": "code",
   "execution_count": null,
   "id": "02c2d69f",
   "metadata": {},
   "outputs": [],
   "source": []
  }
 ],
 "metadata": {
  "kernelspec": {
   "display_name": "Python 3 (ipykernel)",
   "language": "python",
   "name": "python3"
  },
  "language_info": {
   "codemirror_mode": {
    "name": "ipython",
    "version": 3
   },
   "file_extension": ".py",
   "mimetype": "text/x-python",
   "name": "python",
   "nbconvert_exporter": "python",
   "pygments_lexer": "ipython3",
   "version": "3.9.7"
  }
 },
 "nbformat": 4,
 "nbformat_minor": 5
}
