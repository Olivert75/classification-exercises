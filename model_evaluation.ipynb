{
 "cells": [
  {
   "cell_type": "code",
   "execution_count": 138,
   "id": "9b35b2f4",
   "metadata": {},
   "outputs": [],
   "source": [
    "import pandas as pd\n",
    "import numpy as np\n",
    "\n",
    "from sklearn.metrics import confusion_matrix\n",
    "from sklearn.metrics import accuracy_score\n",
    "from sklearn.metrics import precision_score\n",
    "from sklearn.metrics import recall_score\n",
    "from sklearn.metrics import classification_report\n",
    "\n",
    "import warnings \n",
    "warnings.filterwarnings(\"ignore\")"
   ]
  },
  {
   "cell_type": "markdown",
   "id": "aa357f5b",
   "metadata": {},
   "source": [
    "### Given the following confusion matrix, evaluate (by hand) the model's performance.\n",
    "\n",
    "\n",
    "|               | pred dog   | pred cat   |\n",
    "|:------------  |-----------:|-----------:|\n",
    "| actual dog    |         46 |         7  |\n",
    "| actual cat    |         13 |         34 |\n",
    "\n",
    "    In the context of this problem, what is a false positive?\n",
    "    In the context of this problem, what is a false negative?\n",
    "    How would you describe this model?`"
   ]
  },
  {
   "cell_type": "markdown",
   "id": "b4f962a6",
   "metadata": {},
   "source": [
    "- TP: Predicted it is dog and it is actual dog\n",
    "- TN: Predicted it is cat and it is actual cat\n",
    "- FP: Predicted it is dog but it is actual cat\n",
    "- FN: Predicted it is cat but it is actual dog"
   ]
  },
  {
   "cell_type": "code",
   "execution_count": 1,
   "id": "4ddd5939",
   "metadata": {},
   "outputs": [],
   "source": [
    "tp = 46 #true positive\n",
    "tn = 34 #true negative\n",
    "fp = 13 #false positive\n",
    "fn = 7 #false negative"
   ]
  },
  {
   "cell_type": "code",
   "execution_count": 2,
   "id": "af57e796",
   "metadata": {},
   "outputs": [
    {
     "name": "stdout",
     "output_type": "stream",
     "text": [
      " the accuracy is 80.0%, precision is 77.97%, and recall is 86.79%\n"
     ]
    }
   ],
   "source": [
    "accuracy = (tp + tn)/(tp+tn+fp+fn)\n",
    "precision = round(tp/(tp+fp),4)\n",
    "recall = round(tp/(tp+fn),4)\n",
    "\n",
    "print(f' the accuracy is {accuracy*100}%, precision is {precision*100}%, and recall is {recall*100}%')"
   ]
  },
  {
   "cell_type": "markdown",
   "id": "17dc7650",
   "metadata": {},
   "source": [
    "### You are working as a datascientist working for Codeup Cody Creator (C3 for short), a rubber-duck manufacturing plant.\n",
    "\n",
    "Unfortunately, some of the rubber ducks that are produced will have defects. Your team has built several models that try to predict those defects, and the data from their predictions can be found here.\n",
    "\n",
    "Use the predictions dataset and pandas to help answer the following questions:\n",
    "\n",
    "- An internal team wants to investigate the cause of the manufacturing defects. They tell you that they want to identify as many of the ducks that have a defect as possible. Which evaluation metric would be appropriate here? Which model would be the best fit for this use case?"
   ]
  },
  {
   "cell_type": "markdown",
   "id": "94d3d5a4",
   "metadata": {},
   "source": [
    "Evaluation Metric: We choose recall because we dont want to miss out on an acutally positive case\n",
    "\n",
    "Recall tells us how many defects we were able to correctly predict"
   ]
  },
  {
   "cell_type": "code",
   "execution_count": 13,
   "id": "9fee9027",
   "metadata": {},
   "outputs": [
    {
     "data": {
      "text/html": [
       "<div>\n",
       "<style scoped>\n",
       "    .dataframe tbody tr th:only-of-type {\n",
       "        vertical-align: middle;\n",
       "    }\n",
       "\n",
       "    .dataframe tbody tr th {\n",
       "        vertical-align: top;\n",
       "    }\n",
       "\n",
       "    .dataframe thead th {\n",
       "        text-align: right;\n",
       "    }\n",
       "</style>\n",
       "<table border=\"1\" class=\"dataframe\">\n",
       "  <thead>\n",
       "    <tr style=\"text-align: right;\">\n",
       "      <th></th>\n",
       "      <th>actual</th>\n",
       "      <th>model1</th>\n",
       "      <th>model2</th>\n",
       "      <th>model3</th>\n",
       "    </tr>\n",
       "  </thead>\n",
       "  <tbody>\n",
       "    <tr>\n",
       "      <th>0</th>\n",
       "      <td>No Defect</td>\n",
       "      <td>No Defect</td>\n",
       "      <td>Defect</td>\n",
       "      <td>No Defect</td>\n",
       "    </tr>\n",
       "    <tr>\n",
       "      <th>1</th>\n",
       "      <td>No Defect</td>\n",
       "      <td>No Defect</td>\n",
       "      <td>Defect</td>\n",
       "      <td>Defect</td>\n",
       "    </tr>\n",
       "    <tr>\n",
       "      <th>2</th>\n",
       "      <td>No Defect</td>\n",
       "      <td>No Defect</td>\n",
       "      <td>Defect</td>\n",
       "      <td>No Defect</td>\n",
       "    </tr>\n",
       "    <tr>\n",
       "      <th>3</th>\n",
       "      <td>No Defect</td>\n",
       "      <td>Defect</td>\n",
       "      <td>Defect</td>\n",
       "      <td>Defect</td>\n",
       "    </tr>\n",
       "    <tr>\n",
       "      <th>4</th>\n",
       "      <td>No Defect</td>\n",
       "      <td>No Defect</td>\n",
       "      <td>Defect</td>\n",
       "      <td>No Defect</td>\n",
       "    </tr>\n",
       "  </tbody>\n",
       "</table>\n",
       "</div>"
      ],
      "text/plain": [
       "      actual     model1  model2     model3\n",
       "0  No Defect  No Defect  Defect  No Defect\n",
       "1  No Defect  No Defect  Defect     Defect\n",
       "2  No Defect  No Defect  Defect  No Defect\n",
       "3  No Defect     Defect  Defect     Defect\n",
       "4  No Defect  No Defect  Defect  No Defect"
      ]
     },
     "execution_count": 13,
     "metadata": {},
     "output_type": "execute_result"
    }
   ],
   "source": [
    "c3 = pd.read_csv('C3.csv')\n",
    "c3.head()"
   ]
  },
  {
   "cell_type": "code",
   "execution_count": 14,
   "id": "6bae3650",
   "metadata": {},
   "outputs": [
    {
     "data": {
      "text/html": [
       "<div>\n",
       "<style scoped>\n",
       "    .dataframe tbody tr th:only-of-type {\n",
       "        vertical-align: middle;\n",
       "    }\n",
       "\n",
       "    .dataframe tbody tr th {\n",
       "        vertical-align: top;\n",
       "    }\n",
       "\n",
       "    .dataframe thead th {\n",
       "        text-align: right;\n",
       "    }\n",
       "</style>\n",
       "<table border=\"1\" class=\"dataframe\">\n",
       "  <thead>\n",
       "    <tr style=\"text-align: right;\">\n",
       "      <th>actual</th>\n",
       "      <th>Defect</th>\n",
       "      <th>No Defect</th>\n",
       "    </tr>\n",
       "    <tr>\n",
       "      <th>model1</th>\n",
       "      <th></th>\n",
       "      <th></th>\n",
       "    </tr>\n",
       "  </thead>\n",
       "  <tbody>\n",
       "    <tr>\n",
       "      <th>Defect</th>\n",
       "      <td>8</td>\n",
       "      <td>2</td>\n",
       "    </tr>\n",
       "    <tr>\n",
       "      <th>No Defect</th>\n",
       "      <td>8</td>\n",
       "      <td>182</td>\n",
       "    </tr>\n",
       "  </tbody>\n",
       "</table>\n",
       "</div>"
      ],
      "text/plain": [
       "actual     Defect  No Defect\n",
       "model1                      \n",
       "Defect          8          2\n",
       "No Defect       8        182"
      ]
     },
     "execution_count": 14,
     "metadata": {},
     "output_type": "execute_result"
    }
   ],
   "source": [
    "#Model 1\n",
    "pd.crosstab(c3.model1, c3.actual)"
   ]
  },
  {
   "cell_type": "code",
   "execution_count": 15,
   "id": "07fbdde6",
   "metadata": {},
   "outputs": [
    {
     "data": {
      "text/plain": [
       "array([[182,   2],\n",
       "       [  8,   8]])"
      ]
     },
     "execution_count": 15,
     "metadata": {},
     "output_type": "execute_result"
    }
   ],
   "source": [
    "#Model 1 confusion matrix\n",
    "confusion_matrix(c3.actual, c3.model1,\n",
    "                 labels = ('No Defect', 'Defect'))"
   ]
  },
  {
   "cell_type": "code",
   "execution_count": 16,
   "id": "c96784a5",
   "metadata": {},
   "outputs": [
    {
     "data": {
      "text/html": [
       "<div>\n",
       "<style scoped>\n",
       "    .dataframe tbody tr th:only-of-type {\n",
       "        vertical-align: middle;\n",
       "    }\n",
       "\n",
       "    .dataframe tbody tr th {\n",
       "        vertical-align: top;\n",
       "    }\n",
       "\n",
       "    .dataframe thead th {\n",
       "        text-align: right;\n",
       "    }\n",
       "</style>\n",
       "<table border=\"1\" class=\"dataframe\">\n",
       "  <thead>\n",
       "    <tr style=\"text-align: right;\">\n",
       "      <th>actual</th>\n",
       "      <th>Defect</th>\n",
       "      <th>No Defect</th>\n",
       "    </tr>\n",
       "    <tr>\n",
       "      <th>model2</th>\n",
       "      <th></th>\n",
       "      <th></th>\n",
       "    </tr>\n",
       "  </thead>\n",
       "  <tbody>\n",
       "    <tr>\n",
       "      <th>Defect</th>\n",
       "      <td>9</td>\n",
       "      <td>81</td>\n",
       "    </tr>\n",
       "    <tr>\n",
       "      <th>No Defect</th>\n",
       "      <td>7</td>\n",
       "      <td>103</td>\n",
       "    </tr>\n",
       "  </tbody>\n",
       "</table>\n",
       "</div>"
      ],
      "text/plain": [
       "actual     Defect  No Defect\n",
       "model2                      \n",
       "Defect          9         81\n",
       "No Defect       7        103"
      ]
     },
     "execution_count": 16,
     "metadata": {},
     "output_type": "execute_result"
    }
   ],
   "source": [
    "#Model 2\n",
    "pd.crosstab(c3.model2, c3.actual)"
   ]
  },
  {
   "cell_type": "code",
   "execution_count": 17,
   "id": "1416cc4a",
   "metadata": {},
   "outputs": [
    {
     "data": {
      "text/plain": [
       "array([[103,  81],\n",
       "       [  7,   9]])"
      ]
     },
     "execution_count": 17,
     "metadata": {},
     "output_type": "execute_result"
    }
   ],
   "source": [
    "#Model 2 confusion matrix\n",
    "confusion_matrix(c3.actual, c3.model2,\n",
    "                 labels = ('No Defect', 'Defect'))"
   ]
  },
  {
   "cell_type": "code",
   "execution_count": 18,
   "id": "2b58e3e3",
   "metadata": {},
   "outputs": [
    {
     "data": {
      "text/html": [
       "<div>\n",
       "<style scoped>\n",
       "    .dataframe tbody tr th:only-of-type {\n",
       "        vertical-align: middle;\n",
       "    }\n",
       "\n",
       "    .dataframe tbody tr th {\n",
       "        vertical-align: top;\n",
       "    }\n",
       "\n",
       "    .dataframe thead th {\n",
       "        text-align: right;\n",
       "    }\n",
       "</style>\n",
       "<table border=\"1\" class=\"dataframe\">\n",
       "  <thead>\n",
       "    <tr style=\"text-align: right;\">\n",
       "      <th>actual</th>\n",
       "      <th>Defect</th>\n",
       "      <th>No Defect</th>\n",
       "    </tr>\n",
       "    <tr>\n",
       "      <th>model3</th>\n",
       "      <th></th>\n",
       "      <th></th>\n",
       "    </tr>\n",
       "  </thead>\n",
       "  <tbody>\n",
       "    <tr>\n",
       "      <th>Defect</th>\n",
       "      <td>13</td>\n",
       "      <td>86</td>\n",
       "    </tr>\n",
       "    <tr>\n",
       "      <th>No Defect</th>\n",
       "      <td>3</td>\n",
       "      <td>98</td>\n",
       "    </tr>\n",
       "  </tbody>\n",
       "</table>\n",
       "</div>"
      ],
      "text/plain": [
       "actual     Defect  No Defect\n",
       "model3                      \n",
       "Defect         13         86\n",
       "No Defect       3         98"
      ]
     },
     "execution_count": 18,
     "metadata": {},
     "output_type": "execute_result"
    }
   ],
   "source": [
    "#Mode 3\n",
    "pd.crosstab(c3.model3, c3.actual)"
   ]
  },
  {
   "cell_type": "code",
   "execution_count": 19,
   "id": "ec850b8e",
   "metadata": {},
   "outputs": [
    {
     "data": {
      "text/plain": [
       "array([[98, 86],\n",
       "       [ 3, 13]])"
      ]
     },
     "execution_count": 19,
     "metadata": {},
     "output_type": "execute_result"
    }
   ],
   "source": [
    "#Model 3 confusion matrix\n",
    "confusion_matrix(c3.actual, c3.model3,\n",
    "                 labels = ('No Defect', 'Defect'))"
   ]
  },
  {
   "cell_type": "code",
   "execution_count": 20,
   "id": "0011a5c6",
   "metadata": {},
   "outputs": [
    {
     "data": {
      "text/plain": [
       "No Defect    184\n",
       "Defect        16\n",
       "Name: actual, dtype: int64"
      ]
     },
     "execution_count": 20,
     "metadata": {},
     "output_type": "execute_result"
    }
   ],
   "source": [
    "# Baseline\n",
    "c3.actual.value_counts()"
   ]
  },
  {
   "cell_type": "code",
   "execution_count": 44,
   "id": "00a46003",
   "metadata": {},
   "outputs": [
    {
     "name": "stdout",
     "output_type": "stream",
     "text": [
      "     actual     model1     model2     model3\n",
      "13   Defect  No Defect     Defect     Defect\n",
      "30   Defect     Defect  No Defect     Defect\n",
      "65   Defect     Defect     Defect     Defect\n",
      "70   Defect     Defect     Defect     Defect\n",
      "74   Defect  No Defect  No Defect     Defect\n",
      "87   Defect  No Defect     Defect     Defect\n",
      "118  Defect  No Defect     Defect  No Defect\n",
      "135  Defect     Defect  No Defect     Defect\n",
      "140  Defect  No Defect     Defect     Defect\n",
      "147  Defect     Defect  No Defect     Defect\n",
      "163  Defect     Defect     Defect     Defect\n",
      "171  Defect  No Defect     Defect     Defect\n",
      "176  Defect  No Defect     Defect     Defect\n",
      "186  Defect  No Defect  No Defect  No Defect\n",
      "194  Defect     Defect  No Defect     Defect\n",
      "196  Defect     Defect  No Defect  No Defect\n"
     ]
    }
   ],
   "source": [
    "#Since this is accuracy so we want to create just one subset for all the model\n",
    "subset = c3[c3.actual == 'Defect']\n",
    "print(subset)"
   ]
  },
  {
   "cell_type": "code",
   "execution_count": 28,
   "id": "335df5fb",
   "metadata": {},
   "outputs": [
    {
     "data": {
      "text/plain": [
       "0.5"
      ]
     },
     "execution_count": 28,
     "metadata": {},
     "output_type": "execute_result"
    }
   ],
   "source": [
    "# Recall model 1 \n",
    "(subset.model1 == subset.actual).mean()"
   ]
  },
  {
   "cell_type": "code",
   "execution_count": 24,
   "id": "6f487327",
   "metadata": {},
   "outputs": [
    {
     "data": {
      "text/plain": [
       "0.5625"
      ]
     },
     "execution_count": 24,
     "metadata": {},
     "output_type": "execute_result"
    }
   ],
   "source": [
    "# Recall model 2 \n",
    "(subset.model2 == subset.actual).mean()"
   ]
  },
  {
   "cell_type": "code",
   "execution_count": 25,
   "id": "b5b017b4",
   "metadata": {},
   "outputs": [
    {
     "data": {
      "text/plain": [
       "0.8125"
      ]
     },
     "execution_count": 25,
     "metadata": {},
     "output_type": "execute_result"
    }
   ],
   "source": [
    "# Recall model 3 \n",
    "(subset.model3 == subset.actual).mean()"
   ]
  },
  {
   "cell_type": "markdown",
   "id": "51521176",
   "metadata": {},
   "source": [
    "Model 3 is the best at predicting defects, and being correct. We should use this one."
   ]
  },
  {
   "cell_type": "markdown",
   "id": "c9aa1de0",
   "metadata": {},
   "source": [
    "- Recently several stories in the local news have come out highlighting customers who received a rubber duck with a defect, and portraying C3 in a bad light. The PR team has decided to launch a program that gives customers with a defective duck a vacation to Hawaii. They need you to predict which ducks will have defects, but tell you the really don't want to accidentally give out a vacation package when the duck really doesn't have a defect. Which evaluation metric would be appropriate here? Which model would be the best fit for this use case?"
   ]
  },
  {
   "cell_type": "markdown",
   "id": "a22cb894",
   "metadata": {},
   "source": [
    "We want to find out which model has the best precision rate, because false positive are expensive\n",
    "\n",
    "Create subsets for each of the model"
   ]
  },
  {
   "cell_type": "code",
   "execution_count": 30,
   "id": "0037207b",
   "metadata": {},
   "outputs": [
    {
     "name": "stdout",
     "output_type": "stream",
     "text": [
      "        actual  model1     model2     model3\n",
      "3    No Defect  Defect     Defect     Defect\n",
      "30      Defect  Defect  No Defect     Defect\n",
      "62   No Defect  Defect  No Defect  No Defect\n",
      "65      Defect  Defect     Defect     Defect\n",
      "70      Defect  Defect     Defect     Defect\n",
      "135     Defect  Defect  No Defect     Defect\n",
      "147     Defect  Defect  No Defect     Defect\n",
      "163     Defect  Defect     Defect     Defect\n",
      "194     Defect  Defect  No Defect     Defect\n",
      "196     Defect  Defect  No Defect  No Defect\n"
     ]
    },
    {
     "data": {
      "text/plain": [
       "0.8"
      ]
     },
     "execution_count": 30,
     "metadata": {},
     "output_type": "execute_result"
    }
   ],
   "source": [
    "#Model 1\n",
    "subset1 = c3[c3.model1 == 'Defect']\n",
    "print(subset1)\n",
    "(subset1.model1 == subset1.actual).mean()"
   ]
  },
  {
   "cell_type": "code",
   "execution_count": 31,
   "id": "f540363d",
   "metadata": {},
   "outputs": [
    {
     "name": "stdout",
     "output_type": "stream",
     "text": [
      "        actual     model1  model2     model3\n",
      "0    No Defect  No Defect  Defect  No Defect\n",
      "1    No Defect  No Defect  Defect     Defect\n",
      "2    No Defect  No Defect  Defect  No Defect\n",
      "3    No Defect     Defect  Defect     Defect\n",
      "4    No Defect  No Defect  Defect  No Defect\n",
      "..         ...        ...     ...        ...\n",
      "183  No Defect  No Defect  Defect  No Defect\n",
      "185  No Defect  No Defect  Defect  No Defect\n",
      "193  No Defect  No Defect  Defect     Defect\n",
      "195  No Defect  No Defect  Defect     Defect\n",
      "198  No Defect  No Defect  Defect     Defect\n",
      "\n",
      "[90 rows x 4 columns]\n"
     ]
    },
    {
     "data": {
      "text/plain": [
       "0.1"
      ]
     },
     "execution_count": 31,
     "metadata": {},
     "output_type": "execute_result"
    }
   ],
   "source": [
    "#Model 2\n",
    "subset2 = c3[c3.model2 == 'Defect']\n",
    "print(subset2)\n",
    "(subset2.model2 == subset2.actual).mean()"
   ]
  },
  {
   "cell_type": "code",
   "execution_count": 32,
   "id": "4996d2c5",
   "metadata": {},
   "outputs": [
    {
     "name": "stdout",
     "output_type": "stream",
     "text": [
      "        actual     model1     model2  model3\n",
      "1    No Defect  No Defect     Defect  Defect\n",
      "3    No Defect     Defect     Defect  Defect\n",
      "5    No Defect  No Defect  No Defect  Defect\n",
      "9    No Defect  No Defect  No Defect  Defect\n",
      "13      Defect  No Defect     Defect  Defect\n",
      "..         ...        ...        ...     ...\n",
      "193  No Defect  No Defect     Defect  Defect\n",
      "194     Defect     Defect  No Defect  Defect\n",
      "195  No Defect  No Defect     Defect  Defect\n",
      "198  No Defect  No Defect     Defect  Defect\n",
      "199  No Defect  No Defect  No Defect  Defect\n",
      "\n",
      "[99 rows x 4 columns]\n"
     ]
    },
    {
     "data": {
      "text/plain": [
       "0.13131313131313133"
      ]
     },
     "execution_count": 32,
     "metadata": {},
     "output_type": "execute_result"
    }
   ],
   "source": [
    "#Model 3\n",
    "subset3 = c3[c3.model3 == 'Defect']\n",
    "print(subset3)\n",
    "(subset3.model3 == subset3.actual).mean()"
   ]
  },
  {
   "cell_type": "markdown",
   "id": "e7716d1b",
   "metadata": {},
   "source": [
    "We should use model 1 for this case."
   ]
  },
  {
   "cell_type": "markdown",
   "id": "63241ae2",
   "metadata": {},
   "source": [
    "### You are working as a data scientist for Gives You Paws ™, a subscription based service that shows you cute pictures of dogs or cats (or both for an additional fee).\n",
    "\n",
    "At Gives You Paws, anyone can upload pictures of their cats or dogs. The photos are then put through a two step process. First an automated algorithm tags pictures as either a cat or a dog (Phase I). Next, the photos that have been initially identified are put through another round of review, possibly with some human oversight, before being presented to the users (Phase II).\n",
    "\n",
    "Several models have already been developed with the data, and you can find their results here.\n",
    "\n",
    "Given this dataset, use pandas to create a baseline model (i.e. a model that just predicts the most common class) and answer the following questions:\n",
    "\n",
    "- In terms of accuracy, how do the various models compare to the baseline model? Are any of the models better than the baseline?\n",
    "- Suppose you are working on a team that solely deals with dog pictures. Which of these models would you recomend for Phase I? For Phase II?\n",
    "- Suppose you are working on a team that solely deals with cat pictures. Which of these models would you recomend for Phase I? For Phase II?"
   ]
  },
  {
   "cell_type": "code",
   "execution_count": 34,
   "id": "72dd4f14",
   "metadata": {},
   "outputs": [
    {
     "data": {
      "text/html": [
       "<div>\n",
       "<style scoped>\n",
       "    .dataframe tbody tr th:only-of-type {\n",
       "        vertical-align: middle;\n",
       "    }\n",
       "\n",
       "    .dataframe tbody tr th {\n",
       "        vertical-align: top;\n",
       "    }\n",
       "\n",
       "    .dataframe thead th {\n",
       "        text-align: right;\n",
       "    }\n",
       "</style>\n",
       "<table border=\"1\" class=\"dataframe\">\n",
       "  <thead>\n",
       "    <tr style=\"text-align: right;\">\n",
       "      <th></th>\n",
       "      <th>actual</th>\n",
       "      <th>model1</th>\n",
       "      <th>model2</th>\n",
       "      <th>model3</th>\n",
       "      <th>model4</th>\n",
       "    </tr>\n",
       "  </thead>\n",
       "  <tbody>\n",
       "    <tr>\n",
       "      <th>0</th>\n",
       "      <td>cat</td>\n",
       "      <td>cat</td>\n",
       "      <td>dog</td>\n",
       "      <td>cat</td>\n",
       "      <td>dog</td>\n",
       "    </tr>\n",
       "    <tr>\n",
       "      <th>1</th>\n",
       "      <td>dog</td>\n",
       "      <td>dog</td>\n",
       "      <td>cat</td>\n",
       "      <td>cat</td>\n",
       "      <td>dog</td>\n",
       "    </tr>\n",
       "    <tr>\n",
       "      <th>2</th>\n",
       "      <td>dog</td>\n",
       "      <td>cat</td>\n",
       "      <td>cat</td>\n",
       "      <td>cat</td>\n",
       "      <td>dog</td>\n",
       "    </tr>\n",
       "    <tr>\n",
       "      <th>3</th>\n",
       "      <td>dog</td>\n",
       "      <td>dog</td>\n",
       "      <td>dog</td>\n",
       "      <td>cat</td>\n",
       "      <td>dog</td>\n",
       "    </tr>\n",
       "    <tr>\n",
       "      <th>4</th>\n",
       "      <td>cat</td>\n",
       "      <td>cat</td>\n",
       "      <td>cat</td>\n",
       "      <td>dog</td>\n",
       "      <td>dog</td>\n",
       "    </tr>\n",
       "  </tbody>\n",
       "</table>\n",
       "</div>"
      ],
      "text/plain": [
       "  actual model1 model2 model3 model4\n",
       "0    cat    cat    dog    cat    dog\n",
       "1    dog    dog    cat    cat    dog\n",
       "2    dog    cat    cat    cat    dog\n",
       "3    dog    dog    dog    cat    dog\n",
       "4    cat    cat    cat    dog    dog"
      ]
     },
     "execution_count": 34,
     "metadata": {},
     "output_type": "execute_result"
    }
   ],
   "source": [
    "paws = pd.read_csv('gives_you_paws.csv')\n",
    "paws.head()"
   ]
  },
  {
   "cell_type": "code",
   "execution_count": 36,
   "id": "1499a9cd",
   "metadata": {},
   "outputs": [
    {
     "data": {
      "text/html": [
       "<div>\n",
       "<style scoped>\n",
       "    .dataframe tbody tr th:only-of-type {\n",
       "        vertical-align: middle;\n",
       "    }\n",
       "\n",
       "    .dataframe tbody tr th {\n",
       "        vertical-align: top;\n",
       "    }\n",
       "\n",
       "    .dataframe thead th {\n",
       "        text-align: right;\n",
       "    }\n",
       "</style>\n",
       "<table border=\"1\" class=\"dataframe\">\n",
       "  <thead>\n",
       "    <tr style=\"text-align: right;\">\n",
       "      <th></th>\n",
       "      <th>actual</th>\n",
       "      <th>model1</th>\n",
       "      <th>model2</th>\n",
       "      <th>model3</th>\n",
       "      <th>model4</th>\n",
       "      <th>baseline</th>\n",
       "    </tr>\n",
       "  </thead>\n",
       "  <tbody>\n",
       "    <tr>\n",
       "      <th>0</th>\n",
       "      <td>cat</td>\n",
       "      <td>cat</td>\n",
       "      <td>dog</td>\n",
       "      <td>cat</td>\n",
       "      <td>dog</td>\n",
       "      <td>dog</td>\n",
       "    </tr>\n",
       "    <tr>\n",
       "      <th>1</th>\n",
       "      <td>dog</td>\n",
       "      <td>dog</td>\n",
       "      <td>cat</td>\n",
       "      <td>cat</td>\n",
       "      <td>dog</td>\n",
       "      <td>dog</td>\n",
       "    </tr>\n",
       "    <tr>\n",
       "      <th>2</th>\n",
       "      <td>dog</td>\n",
       "      <td>cat</td>\n",
       "      <td>cat</td>\n",
       "      <td>cat</td>\n",
       "      <td>dog</td>\n",
       "      <td>dog</td>\n",
       "    </tr>\n",
       "    <tr>\n",
       "      <th>3</th>\n",
       "      <td>dog</td>\n",
       "      <td>dog</td>\n",
       "      <td>dog</td>\n",
       "      <td>cat</td>\n",
       "      <td>dog</td>\n",
       "      <td>dog</td>\n",
       "    </tr>\n",
       "    <tr>\n",
       "      <th>4</th>\n",
       "      <td>cat</td>\n",
       "      <td>cat</td>\n",
       "      <td>cat</td>\n",
       "      <td>dog</td>\n",
       "      <td>dog</td>\n",
       "      <td>dog</td>\n",
       "    </tr>\n",
       "  </tbody>\n",
       "</table>\n",
       "</div>"
      ],
      "text/plain": [
       "  actual model1 model2 model3 model4 baseline\n",
       "0    cat    cat    dog    cat    dog      dog\n",
       "1    dog    dog    cat    cat    dog      dog\n",
       "2    dog    cat    cat    cat    dog      dog\n",
       "3    dog    dog    dog    cat    dog      dog\n",
       "4    cat    cat    cat    dog    dog      dog"
      ]
     },
     "execution_count": 36,
     "metadata": {},
     "output_type": "execute_result"
    }
   ],
   "source": [
    "#Find the most common in actual\n",
    "#Create a new column baseline\n",
    "paws['baseline'] = paws.actual.max()\n",
    "paws.head()"
   ]
  },
  {
   "cell_type": "code",
   "execution_count": 38,
   "id": "e47dcce0",
   "metadata": {},
   "outputs": [],
   "source": [
    "#In terms of accuracy, how do the various models compare to the baseline model? \n",
    "#Are any of the models better than the baseline?\n",
    "\n",
    "positive = 'dog'\n",
    "# accuracy -- overall hit rate\n",
    "#model1\n",
    "model_accuracy1 = (paws.model1 == paws.actual).mean()\n",
    "baseline_accuracy = (paws.baseline == paws.actual).mean()\n",
    "\n",
    "#model2\n",
    "model_accuracy2 = (paws.model2 == paws.actual).mean()\n",
    "\n",
    "#model3\n",
    "model_accuracy3 = (paws.model3 == paws.actual).mean()\n",
    "\n",
    "#model4\n",
    "model_accuracy4 = (paws.model4 == paws.actual).mean()\n"
   ]
  },
  {
   "cell_type": "code",
   "execution_count": 43,
   "id": "1a75c021",
   "metadata": {},
   "outputs": [
    {
     "data": {
      "text/plain": [
       "(0.6508, 0.8074, 0.6304, 0.5096, 0.7426)"
      ]
     },
     "execution_count": 43,
     "metadata": {},
     "output_type": "execute_result"
    }
   ],
   "source": [
    "baseline_accuracy,model_accuracy1,model_accuracy2,model_accuracy3,model_accuracy4"
   ]
  },
  {
   "cell_type": "code",
   "execution_count": 86,
   "id": "decdae01",
   "metadata": {},
   "outputs": [
    {
     "name": "stdout",
     "output_type": "stream",
     "text": [
      "\n",
      "positive: dog\n",
      "\n",
      "model    | baseline | model1 | model2| model3 |  model4 | \n",
      "         | -------- | ------ | ------| ------ |  ------ |      \n",
      "accuracy |   65.08% | 80.74% | 63.04%| 50.96% | 74.26%  |\n",
      "\n"
     ]
    }
   ],
   "source": [
    "print(f'''\n",
    "positive: {positive}\n",
    "\n",
    "model    | baseline | model1 | model2| model3 |  model4 | \n",
    "         | -------- | ------ | ------| ------ |  ------ |      \n",
    "accuracy | {baseline_accuracy:8.2%} | {model_accuracy1:6.2%} | {model_accuracy2:6.2%}| {model_accuracy3:6.2%} | {model_accuracy4:6.2%}  |\n",
    "''')"
   ]
  },
  {
   "cell_type": "markdown",
   "id": "bbcb5e87",
   "metadata": {},
   "source": [
    "##### Model 1 and model 4 are better than the baseline "
   ]
  },
  {
   "cell_type": "code",
   "execution_count": 87,
   "id": "1274b183",
   "metadata": {},
   "outputs": [],
   "source": [
    "#Suppose you are working on a team that solely deals with dog pictures. \n",
    "#Which of these models would you recomend for Phase I? For Phase II?\n",
    "#For phase I, we would want Accuracy. For phase II, we want precision"
   ]
  },
  {
   "cell_type": "code",
   "execution_count": 118,
   "id": "899dd4bb",
   "metadata": {},
   "outputs": [
    {
     "name": "stdout",
     "output_type": "stream",
     "text": [
      "The accuracy for model 1 is: 80.33%\n",
      "The accuracy for model 2 is: 49.08%\n",
      "The accuracy for model 3 is: 50.86%\n",
      "The accuracy for model 4 is: 95.57%\n"
     ]
    }
   ],
   "source": [
    "#Phase I\n",
    "subset = paws[paws.actual == 'dog']\n",
    "print(f'The accuracy for model 1 is: {(subset.model1 == subset.actual).mean():.2%}')\n",
    "print(f'The accuracy for model 2 is: {(subset.model2 == subset.actual).mean():.2%}')\n",
    "print(f'The accuracy for model 3 is: {(subset.model3 == subset.actual).mean():.2%}')\n",
    "print(f'The accuracy for model 4 is: {(subset.model4 == subset.actual).mean():.2%}')"
   ]
  },
  {
   "cell_type": "code",
   "execution_count": 89,
   "id": "2458551b",
   "metadata": {},
   "outputs": [],
   "source": [
    "#Phase II\n",
    "#baseline\n",
    "positive = 'dog'\n",
    "subset = paws[paws.baseline == positive]\n",
    "baseline_precision = (subset.baseline == subset.actual).mean()"
   ]
  },
  {
   "cell_type": "code",
   "execution_count": 90,
   "id": "c9af7218",
   "metadata": {},
   "outputs": [],
   "source": [
    "#model1\n",
    "subset1 = paws[paws.model1 == positive]\n",
    "model1_precision = (subset1.model1 == subset1.actual).mean()"
   ]
  },
  {
   "cell_type": "code",
   "execution_count": 91,
   "id": "26a290c5",
   "metadata": {},
   "outputs": [],
   "source": [
    "#model2\n",
    "subset2 = paws[paws.model2 == positive]\n",
    "model2_precision = (subset2.model2 == subset2.actual).mean()"
   ]
  },
  {
   "cell_type": "code",
   "execution_count": 92,
   "id": "9d119f51",
   "metadata": {},
   "outputs": [],
   "source": [
    "#model3\n",
    "subset3 = paws[paws.model3 == positive]\n",
    "model3_precision = (subset3.model3 == subset3.actual).mean()"
   ]
  },
  {
   "cell_type": "code",
   "execution_count": 93,
   "id": "81926f91",
   "metadata": {},
   "outputs": [],
   "source": [
    "#model4\n",
    "subset4 = paws[paws.model4 == positive]\n",
    "model4_precision = (subset4.model4 == subset4.actual).mean()"
   ]
  },
  {
   "cell_type": "code",
   "execution_count": 115,
   "id": "19cd051f",
   "metadata": {},
   "outputs": [
    {
     "name": "stdout",
     "output_type": "stream",
     "text": [
      "\n",
      "positive: dog\n",
      "\n",
      "model     | baseline | model1 | model2 | model3 |  model4 | \n",
      "          | -------- | ------ | ------ | ------ |  ------ |      \n",
      "precision |   65.08% | 89.00% | 89.32% | 65.99% | 73.12%  | \n",
      "\n"
     ]
    }
   ],
   "source": [
    "print(f'''\n",
    "positive: {positive}\n",
    "\n",
    "model     | baseline | model1 | model2 | model3 |  model4 | \n",
    "          | -------- | ------ | ------ | ------ |  ------ |      \n",
    "precision | {baseline_precision:8.2%} | {model1_precision:6.2%} | {model2_precision:6.2%} | {model3_precision:6.2%} | {model4_precision:6.2%}  | \n",
    "''')"
   ]
  },
  {
   "cell_type": "markdown",
   "id": "32e2389a",
   "metadata": {},
   "source": [
    "##### Model 1 and 2 have the highest precision"
   ]
  },
  {
   "cell_type": "code",
   "execution_count": 116,
   "id": "b4c3b2ee",
   "metadata": {},
   "outputs": [],
   "source": [
    "#Suppose you are working on a team that solely deals with cat pictures. \n",
    "#Which of these models would you recomend for Phase I? For Phase II?\n",
    "#For phase I, we would want Accuracy. For phase II, we want precision"
   ]
  },
  {
   "cell_type": "code",
   "execution_count": 119,
   "id": "db00864f",
   "metadata": {},
   "outputs": [
    {
     "name": "stdout",
     "output_type": "stream",
     "text": [
      "The accuracy for model 1 is: 81.50%\n",
      "The accuracy for model 2 is: 89.06%\n",
      "The accuracy for model 3 is: 51.15%\n",
      "The accuracy for model 4 is: 34.54%\n"
     ]
    }
   ],
   "source": [
    "#Phase I\n",
    "subset = paws[paws.actual == 'cat']\n",
    "print(f'The accuracy for model 1 is: {(subset.model1 == subset.actual).mean():.2%}')\n",
    "print(f'The accuracy for model 2 is: {(subset.model2 == subset.actual).mean():.2%}')\n",
    "print(f'The accuracy for model 3 is: {(subset.model3 == subset.actual).mean():.2%}')\n",
    "print(f'The accuracy for model 4 is: {(subset.model4 == subset.actual).mean():.2%}')"
   ]
  },
  {
   "cell_type": "code",
   "execution_count": 126,
   "id": "6d460999",
   "metadata": {},
   "outputs": [],
   "source": [
    "#Phase II\n",
    "#baseline\n",
    "positive = 'cat'\n",
    "subset = paws[paws.baseline == positive]\n",
    "baseline_precision = (subset.baseline == subset.actual).mean()"
   ]
  },
  {
   "cell_type": "code",
   "execution_count": 127,
   "id": "37d171d6",
   "metadata": {},
   "outputs": [],
   "source": [
    "#model1\n",
    "subset1 = paws[paws.model1 == positive]\n",
    "model1_precision = (subset1.model1 == subset1.actual).mean()"
   ]
  },
  {
   "cell_type": "code",
   "execution_count": 122,
   "id": "43569ef5",
   "metadata": {},
   "outputs": [],
   "source": [
    "#model2\n",
    "subset2 = paws[paws.model2 == positive]\n",
    "model2_precision = (subset2.model2 == subset2.actual).mean()"
   ]
  },
  {
   "cell_type": "code",
   "execution_count": 123,
   "id": "27398459",
   "metadata": {},
   "outputs": [],
   "source": [
    "#model3\n",
    "subset3 = paws[paws.model3 == positive]\n",
    "model3_precision = (subset3.model3 == subset3.actual).mean()"
   ]
  },
  {
   "cell_type": "code",
   "execution_count": 124,
   "id": "2bcea9c6",
   "metadata": {},
   "outputs": [],
   "source": [
    "#model4\n",
    "subset4 = paws[paws.model4 == positive]\n",
    "model4_precision = (subset4.model4 == subset4.actual).mean()"
   ]
  },
  {
   "cell_type": "code",
   "execution_count": 128,
   "id": "1d253612",
   "metadata": {},
   "outputs": [
    {
     "name": "stdout",
     "output_type": "stream",
     "text": [
      "\n",
      "positive: cat\n",
      "\n",
      "model     | baseline | model1 | model2 | model3 |  model4 | \n",
      "          | -------- | ------ | ------ | ------ |  ------ |      \n",
      "precision |     nan% | 68.98% | 48.41% | 35.83% | 80.72%  | \n",
      "\n"
     ]
    }
   ],
   "source": [
    "print(f'''\n",
    "positive: {positive}\n",
    "\n",
    "model     | baseline | model1 | model2 | model3 |  model4 | \n",
    "          | -------- | ------ | ------ | ------ |  ------ |      \n",
    "precision | {baseline_precision:8.2%} | {model1_precision:6.2%} | {model2_precision:6.2%} | {model3_precision:6.2%} | {model4_precision:6.2%}  | \n",
    "''')"
   ]
  },
  {
   "cell_type": "markdown",
   "id": "1b9236dd",
   "metadata": {},
   "source": [
    "##### Model 4 has the highest precision"
   ]
  },
  {
   "cell_type": "markdown",
   "id": "acc5aa62",
   "metadata": {},
   "source": [
    "### Follow the links below to read the documentation about each function, then apply those functions to the data from the previous problem.\n",
    "\n",
    "- sklearn.metrics.accuracy_score\n",
    "- sklearn.metrics.precision_score\n",
    "- sklearn.metrics.recall_score\n",
    "- sklearn.metrics.classification_report"
   ]
  },
  {
   "cell_type": "code",
   "execution_count": 140,
   "id": "c61c560e",
   "metadata": {},
   "outputs": [
    {
     "name": "stdout",
     "output_type": "stream",
     "text": [
      "The accuracy for model1 is:  80.74%\n",
      "The accuracy for model2 is:  63.04%\n",
      "The accuracy for model3 is:  50.96%\n",
      "The accuracy for model4 is:  74.26%\n",
      "The accuracy for baseline is:  65.08%\n"
     ]
    }
   ],
   "source": [
    "#accuracy_score\n",
    "for col in list(paws.columns[1:]):\n",
    "    accuracy = accuracy_score(paws.actual, paws[col])\n",
    "    print(f'The accuracy for {col} is: {accuracy: .2%}')"
   ]
  },
  {
   "cell_type": "code",
   "execution_count": 141,
   "id": "26966ff9",
   "metadata": {},
   "outputs": [
    {
     "name": "stdout",
     "output_type": "stream",
     "text": [
      "The precision for model1 is:  89.00%\n",
      "The precision for model2 is:  89.32%\n",
      "The precision for model3 is:  65.99%\n",
      "The precision for model4 is:  73.12%\n",
      "The precision for baseline is:  65.08%\n"
     ]
    }
   ],
   "source": [
    "#precision_score\n",
    "\n",
    "#If we want look at dog only\n",
    "for col in list(paws.columns[1:]):\n",
    "    precision = precision_score(paws.actual, paws[col], pos_label = 'dog')\n",
    "    print(f'The precision for {col} is: {precision: .2%}')"
   ]
  },
  {
   "cell_type": "code",
   "execution_count": 142,
   "id": "a999558e",
   "metadata": {},
   "outputs": [
    {
     "name": "stdout",
     "output_type": "stream",
     "text": [
      "The precision for model1 is:  68.98%\n",
      "The precision for model2 is:  48.41%\n",
      "The precision for model3 is:  35.83%\n",
      "The precision for model4 is:  80.72%\n",
      "The precision for baseline is:  0.00%\n"
     ]
    }
   ],
   "source": [
    "#If we want look at cat\n",
    "for col in list(paws.columns[1:]):\n",
    "    precision = precision_score(paws.actual, paws[col], pos_label = 'cat')\n",
    "    print(f'The precision for {col} is: {precision: .2%}')"
   ]
  },
  {
   "cell_type": "code",
   "execution_count": 143,
   "id": "9c9454c9",
   "metadata": {},
   "outputs": [
    {
     "name": "stdout",
     "output_type": "stream",
     "text": [
      "The recall for model1 is:  80.33%\n",
      "The recall for model2 is:  49.08%\n",
      "The recall for model3 is:  50.86%\n",
      "The recall for model4 is:  95.57%\n",
      "The recall for baseline is:  100.00%\n"
     ]
    }
   ],
   "source": [
    "#recall_score\n",
    "\n",
    "#Dog\n",
    "for col in list(paws.columns[1:]):\n",
    "    recall = recall_score(paws.actual, paws[col], pos_label = 'dog')\n",
    "    print(f'The recall for {col} is: {recall: .2%}')"
   ]
  },
  {
   "cell_type": "code",
   "execution_count": 144,
   "id": "bbac72c7",
   "metadata": {},
   "outputs": [
    {
     "name": "stdout",
     "output_type": "stream",
     "text": [
      "The recall for model1 is:  81.50%\n",
      "The recall for model2 is:  89.06%\n",
      "The recall for model3 is:  51.15%\n",
      "The recall for model4 is:  34.54%\n",
      "The recall for baseline is:  0.00%\n"
     ]
    }
   ],
   "source": [
    "#Cat\n",
    "for col in list(paws.columns[1:]):\n",
    "    recall = recall_score(paws.actual, paws[col], pos_label = 'cat')\n",
    "    print(f'The recall for {col} is: {recall: .2%}')"
   ]
  },
  {
   "cell_type": "code",
   "execution_count": 154,
   "id": "cf40bf94",
   "metadata": {},
   "outputs": [
    {
     "name": "stdout",
     "output_type": "stream",
     "text": [
      "model1\n",
      "              precision    recall  f1-score   support\n",
      "\n",
      "         cat       0.69      0.82      0.75      1746\n",
      "         dog       0.89      0.80      0.84      3254\n",
      "\n",
      "    accuracy                           0.81      5000\n",
      "   macro avg       0.79      0.81      0.80      5000\n",
      "weighted avg       0.82      0.81      0.81      5000\n",
      "\n",
      "------------------------------------------------------\n",
      "model2\n",
      "              precision    recall  f1-score   support\n",
      "\n",
      "         cat       0.48      0.89      0.63      1746\n",
      "         dog       0.89      0.49      0.63      3254\n",
      "\n",
      "    accuracy                           0.63      5000\n",
      "   macro avg       0.69      0.69      0.63      5000\n",
      "weighted avg       0.75      0.63      0.63      5000\n",
      "\n",
      "------------------------------------------------------\n",
      "model3\n",
      "              precision    recall  f1-score   support\n",
      "\n",
      "         cat       0.36      0.51      0.42      1746\n",
      "         dog       0.66      0.51      0.57      3254\n",
      "\n",
      "    accuracy                           0.51      5000\n",
      "   macro avg       0.51      0.51      0.50      5000\n",
      "weighted avg       0.55      0.51      0.52      5000\n",
      "\n",
      "------------------------------------------------------\n",
      "model4\n",
      "              precision    recall  f1-score   support\n",
      "\n",
      "         cat       0.81      0.35      0.48      1746\n",
      "         dog       0.73      0.96      0.83      3254\n",
      "\n",
      "    accuracy                           0.74      5000\n",
      "   macro avg       0.77      0.65      0.66      5000\n",
      "weighted avg       0.76      0.74      0.71      5000\n",
      "\n",
      "------------------------------------------------------\n",
      "baseline\n",
      "              precision    recall  f1-score   support\n",
      "\n",
      "         cat       0.00      0.00      0.00      1746\n",
      "         dog       0.65      1.00      0.79      3254\n",
      "\n",
      "    accuracy                           0.65      5000\n",
      "   macro avg       0.33      0.50      0.39      5000\n",
      "weighted avg       0.42      0.65      0.51      5000\n",
      "\n",
      "------------------------------------------------------\n"
     ]
    }
   ],
   "source": [
    "#classification_report\n",
    "\n",
    "for col in list(paws.columns[1:]):\n",
    "    print(col)\n",
    "    print(classification_report(paws.actual, paws[col]))\n",
    "    print('------------------------------------------------------')"
   ]
  },
  {
   "cell_type": "code",
   "execution_count": null,
   "id": "26a9c15d",
   "metadata": {},
   "outputs": [],
   "source": []
  }
 ],
 "metadata": {
  "kernelspec": {
   "display_name": "Python 3 (ipykernel)",
   "language": "python",
   "name": "python3"
  },
  "language_info": {
   "codemirror_mode": {
    "name": "ipython",
    "version": 3
   },
   "file_extension": ".py",
   "mimetype": "text/x-python",
   "name": "python",
   "nbconvert_exporter": "python",
   "pygments_lexer": "ipython3",
   "version": "3.9.7"
  }
 },
 "nbformat": 4,
 "nbformat_minor": 5
}
