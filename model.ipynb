{
 "cells": [
  {
   "cell_type": "code",
   "execution_count": 1,
   "id": "ea912566",
   "metadata": {},
   "outputs": [],
   "source": [
    "import pandas as pd\n",
    "from pydataset import data\n",
    "\n",
    "import prepare\n",
    "import acquire\n",
    "\n",
    "import warnings\n",
    "warnings.filterwarnings(\"ignore\")\n",
    "\n",
    "from sklearn.metrics import confusion_matrix\n",
    "from sklearn.model_selection import train_test_split\n",
    "from sklearn.tree import DecisionTreeClassifier, plot_tree, export_graphviz\n",
    "from sklearn.metrics import classification_report, accuracy_score, recall_score, precision_score, f1_score\n",
    "from sklearn.ensemble import RandomForestClassifier\n",
    "from sklearn.neighbors import KNeighborsClassifier\n",
    "from sklearn.linear_model import LogisticRegression"
   ]
  },
  {
   "cell_type": "code",
   "execution_count": 2,
   "id": "f32d6b92",
   "metadata": {},
   "outputs": [],
   "source": [
    "#Get titanic data\n",
    "df = acquire.get_titanic_data()"
   ]
  },
  {
   "cell_type": "code",
   "execution_count": 3,
   "id": "be977a07",
   "metadata": {},
   "outputs": [
    {
     "data": {
      "text/html": [
       "<div>\n",
       "<style scoped>\n",
       "    .dataframe tbody tr th:only-of-type {\n",
       "        vertical-align: middle;\n",
       "    }\n",
       "\n",
       "    .dataframe tbody tr th {\n",
       "        vertical-align: top;\n",
       "    }\n",
       "\n",
       "    .dataframe thead th {\n",
       "        text-align: right;\n",
       "    }\n",
       "</style>\n",
       "<table border=\"1\" class=\"dataframe\">\n",
       "  <thead>\n",
       "    <tr style=\"text-align: right;\">\n",
       "      <th></th>\n",
       "      <th>passenger_id</th>\n",
       "      <th>survived</th>\n",
       "      <th>pclass</th>\n",
       "      <th>sex</th>\n",
       "      <th>age</th>\n",
       "      <th>sibsp</th>\n",
       "      <th>parch</th>\n",
       "      <th>fare</th>\n",
       "      <th>embarked</th>\n",
       "      <th>class</th>\n",
       "      <th>deck</th>\n",
       "      <th>embark_town</th>\n",
       "      <th>alone</th>\n",
       "    </tr>\n",
       "  </thead>\n",
       "  <tbody>\n",
       "    <tr>\n",
       "      <th>0</th>\n",
       "      <td>0</td>\n",
       "      <td>0</td>\n",
       "      <td>3</td>\n",
       "      <td>male</td>\n",
       "      <td>22.0</td>\n",
       "      <td>1</td>\n",
       "      <td>0</td>\n",
       "      <td>7.2500</td>\n",
       "      <td>S</td>\n",
       "      <td>Third</td>\n",
       "      <td>NaN</td>\n",
       "      <td>Southampton</td>\n",
       "      <td>0</td>\n",
       "    </tr>\n",
       "    <tr>\n",
       "      <th>1</th>\n",
       "      <td>1</td>\n",
       "      <td>1</td>\n",
       "      <td>1</td>\n",
       "      <td>female</td>\n",
       "      <td>38.0</td>\n",
       "      <td>1</td>\n",
       "      <td>0</td>\n",
       "      <td>71.2833</td>\n",
       "      <td>C</td>\n",
       "      <td>First</td>\n",
       "      <td>C</td>\n",
       "      <td>Cherbourg</td>\n",
       "      <td>0</td>\n",
       "    </tr>\n",
       "    <tr>\n",
       "      <th>2</th>\n",
       "      <td>2</td>\n",
       "      <td>1</td>\n",
       "      <td>3</td>\n",
       "      <td>female</td>\n",
       "      <td>26.0</td>\n",
       "      <td>0</td>\n",
       "      <td>0</td>\n",
       "      <td>7.9250</td>\n",
       "      <td>S</td>\n",
       "      <td>Third</td>\n",
       "      <td>NaN</td>\n",
       "      <td>Southampton</td>\n",
       "      <td>1</td>\n",
       "    </tr>\n",
       "    <tr>\n",
       "      <th>3</th>\n",
       "      <td>3</td>\n",
       "      <td>1</td>\n",
       "      <td>1</td>\n",
       "      <td>female</td>\n",
       "      <td>35.0</td>\n",
       "      <td>1</td>\n",
       "      <td>0</td>\n",
       "      <td>53.1000</td>\n",
       "      <td>S</td>\n",
       "      <td>First</td>\n",
       "      <td>C</td>\n",
       "      <td>Southampton</td>\n",
       "      <td>0</td>\n",
       "    </tr>\n",
       "    <tr>\n",
       "      <th>4</th>\n",
       "      <td>4</td>\n",
       "      <td>0</td>\n",
       "      <td>3</td>\n",
       "      <td>male</td>\n",
       "      <td>35.0</td>\n",
       "      <td>0</td>\n",
       "      <td>0</td>\n",
       "      <td>8.0500</td>\n",
       "      <td>S</td>\n",
       "      <td>Third</td>\n",
       "      <td>NaN</td>\n",
       "      <td>Southampton</td>\n",
       "      <td>1</td>\n",
       "    </tr>\n",
       "  </tbody>\n",
       "</table>\n",
       "</div>"
      ],
      "text/plain": [
       "   passenger_id  survived  pclass     sex   age  sibsp  parch     fare  \\\n",
       "0             0         0       3    male  22.0      1      0   7.2500   \n",
       "1             1         1       1  female  38.0      1      0  71.2833   \n",
       "2             2         1       3  female  26.0      0      0   7.9250   \n",
       "3             3         1       1  female  35.0      1      0  53.1000   \n",
       "4             4         0       3    male  35.0      0      0   8.0500   \n",
       "\n",
       "  embarked  class deck  embark_town  alone  \n",
       "0        S  Third  NaN  Southampton      0  \n",
       "1        C  First    C    Cherbourg      0  \n",
       "2        S  Third  NaN  Southampton      1  \n",
       "3        S  First    C  Southampton      0  \n",
       "4        S  Third  NaN  Southampton      1  "
      ]
     },
     "execution_count": 3,
     "metadata": {},
     "output_type": "execute_result"
    }
   ],
   "source": [
    "df.head()"
   ]
  },
  {
   "cell_type": "code",
   "execution_count": 4,
   "id": "84ab9581",
   "metadata": {},
   "outputs": [],
   "source": [
    "#Clean the data\n",
    "new_df = prepare.clean_titanic(df)\n",
    "new_df.drop(columns = ['sex','embark_town','class'], inplace =True)"
   ]
  },
  {
   "cell_type": "code",
   "execution_count": 37,
   "id": "fd41819a",
   "metadata": {},
   "outputs": [
    {
     "name": "stdout",
     "output_type": "stream",
     "text": [
      "<class 'pandas.core.frame.DataFrame'>\n",
      "Int64Index: 891 entries, 0 to 890\n",
      "Data columns (total 10 columns):\n",
      " #   Column                   Non-Null Count  Dtype  \n",
      "---  ------                   --------------  -----  \n",
      " 0   survived                 891 non-null    int64  \n",
      " 1   pclass                   891 non-null    int64  \n",
      " 2   age                      714 non-null    float64\n",
      " 3   sibsp                    891 non-null    int64  \n",
      " 4   parch                    891 non-null    int64  \n",
      " 5   fare                     891 non-null    float64\n",
      " 6   alone                    891 non-null    int64  \n",
      " 7   sex_male                 891 non-null    uint8  \n",
      " 8   embark_town_Queenstown   891 non-null    uint8  \n",
      " 9   embark_town_Southampton  891 non-null    uint8  \n",
      "dtypes: float64(2), int64(5), uint8(3)\n",
      "memory usage: 58.3 KB\n"
     ]
    }
   ],
   "source": [
    "new_df.info()"
   ]
  },
  {
   "cell_type": "code",
   "execution_count": 6,
   "id": "a0775fa4",
   "metadata": {},
   "outputs": [],
   "source": [
    "train, validate, test = prepare.titanic_split_data(new_df)"
   ]
  },
  {
   "cell_type": "code",
   "execution_count": 7,
   "id": "3a63e95c",
   "metadata": {
    "scrolled": true
   },
   "outputs": [
    {
     "data": {
      "text/plain": [
       "((498, 8), (214, 8), (179, 8))"
      ]
     },
     "execution_count": 7,
     "metadata": {},
     "output_type": "execute_result"
    }
   ],
   "source": [
    "train.shape, validate.shape, test.shape"
   ]
  },
  {
   "cell_type": "code",
   "execution_count": 8,
   "id": "e7965525",
   "metadata": {},
   "outputs": [
    {
     "name": "stdout",
     "output_type": "stream",
     "text": [
      "<class 'pandas.core.frame.DataFrame'>\n",
      "Int64Index: 498 entries, 583 to 744\n",
      "Data columns (total 9 columns):\n",
      " #   Column                   Non-Null Count  Dtype  \n",
      "---  ------                   --------------  -----  \n",
      " 0   survived                 498 non-null    int64  \n",
      " 1   pclass                   498 non-null    int64  \n",
      " 2   sibsp                    498 non-null    int64  \n",
      " 3   parch                    498 non-null    int64  \n",
      " 4   fare                     498 non-null    float64\n",
      " 5   alone                    498 non-null    int64  \n",
      " 6   sex_male                 498 non-null    uint8  \n",
      " 7   embark_town_Queenstown   498 non-null    uint8  \n",
      " 8   embark_town_Southampton  498 non-null    uint8  \n",
      "dtypes: float64(1), int64(5), uint8(3)\n",
      "memory usage: 28.7 KB\n"
     ]
    }
   ],
   "source": [
    "train.info()"
   ]
  },
  {
   "cell_type": "markdown",
   "id": "b8aa8d3e",
   "metadata": {},
   "source": [
    "### What is your baseline prediction? What is your baseline accuracy? remember: your baseline prediction for a classification problem is predicting the most prevelant class in the training dataset (the mode). When you make those predictions, what is your accuracy? This is your baseline accuracy."
   ]
  },
  {
   "cell_type": "code",
   "execution_count": 9,
   "id": "c1630971",
   "metadata": {},
   "outputs": [],
   "source": [
    "#Set x and y for train\n",
    "x_train = train.drop(columns='survived')\n",
    "y_train = train[['survived']]"
   ]
  },
  {
   "cell_type": "code",
   "execution_count": 10,
   "id": "c8f2ac2e",
   "metadata": {},
   "outputs": [],
   "source": [
    "#Do the same for validate\n",
    "#Set x and y for train\n",
    "x_validate = validate.drop(columns='survived')\n",
    "y_validate = validate[['survived']]"
   ]
  },
  {
   "cell_type": "code",
   "execution_count": 11,
   "id": "6cfdc1c2",
   "metadata": {},
   "outputs": [
    {
     "data": {
      "text/plain": [
       "0.6164658634538153"
      ]
     },
     "execution_count": 11,
     "metadata": {},
     "output_type": "execute_result"
    }
   ],
   "source": [
    "#1 is for those who survived and 0 is for those didnt survived\n",
    "#we predict those survived\n",
    "train['baseline_pred'] = 0\n",
    "accuracy_score(train.survived, train.baseline_pred)"
   ]
  },
  {
   "cell_type": "code",
   "execution_count": 12,
   "id": "bcf1129c",
   "metadata": {},
   "outputs": [
    {
     "name": "stdout",
     "output_type": "stream",
     "text": [
      "              precision    recall  f1-score   support\n",
      "\n",
      "           0       0.62      1.00      0.76       307\n",
      "           1       1.00      0.00      0.00       191\n",
      "\n",
      "    accuracy                           0.62       498\n",
      "   macro avg       0.81      0.50      0.38       498\n",
      "weighted avg       0.76      0.62      0.47       498\n",
      "\n"
     ]
    }
   ],
   "source": [
    "baseline_class_report = classification_report(train.survived, train.baseline_pred, zero_division=True)\n",
    "print(baseline_class_report)"
   ]
  },
  {
   "cell_type": "markdown",
   "id": "0b06ee65",
   "metadata": {},
   "source": [
    "### Fit the decision tree classifier to your training sample and transform (i.e. make predictions on the training sample)"
   ]
  },
  {
   "cell_type": "code",
   "execution_count": 13,
   "id": "6a3356f4",
   "metadata": {},
   "outputs": [
    {
     "data": {
      "text/plain": [
       "DecisionTreeClassifier()"
      ]
     },
     "execution_count": 13,
     "metadata": {},
     "output_type": "execute_result"
    }
   ],
   "source": [
    "model = DecisionTreeClassifier()\n",
    "model.fit(x_train, y_train)"
   ]
  },
  {
   "cell_type": "code",
   "execution_count": 14,
   "id": "8b36c2bb",
   "metadata": {},
   "outputs": [
    {
     "name": "stdout",
     "output_type": "stream",
     "text": [
      "Training score:  94.58%\n",
      "Validate score:  75.70%\n"
     ]
    }
   ],
   "source": [
    "print(f'Training score: {model.score(x_train, y_train): .2%}')\n",
    "print(f'Validate score: {model.score(x_validate, y_validate): .2%}')"
   ]
  },
  {
   "cell_type": "code",
   "execution_count": 15,
   "id": "6bee2a01",
   "metadata": {},
   "outputs": [
    {
     "data": {
      "text/html": [
       "<div>\n",
       "<style scoped>\n",
       "    .dataframe tbody tr th:only-of-type {\n",
       "        vertical-align: middle;\n",
       "    }\n",
       "\n",
       "    .dataframe tbody tr th {\n",
       "        vertical-align: top;\n",
       "    }\n",
       "\n",
       "    .dataframe thead th {\n",
       "        text-align: right;\n",
       "    }\n",
       "</style>\n",
       "<table border=\"1\" class=\"dataframe\">\n",
       "  <thead>\n",
       "    <tr style=\"text-align: right;\">\n",
       "      <th></th>\n",
       "      <th>survived</th>\n",
       "      <th>pclass</th>\n",
       "      <th>sibsp</th>\n",
       "      <th>parch</th>\n",
       "      <th>fare</th>\n",
       "      <th>alone</th>\n",
       "      <th>sex_male</th>\n",
       "      <th>embark_town_Queenstown</th>\n",
       "      <th>embark_town_Southampton</th>\n",
       "      <th>baseline_pred</th>\n",
       "      <th>model</th>\n",
       "    </tr>\n",
       "  </thead>\n",
       "  <tbody>\n",
       "    <tr>\n",
       "      <th>583</th>\n",
       "      <td>0</td>\n",
       "      <td>1</td>\n",
       "      <td>0</td>\n",
       "      <td>0</td>\n",
       "      <td>40.1250</td>\n",
       "      <td>1</td>\n",
       "      <td>1</td>\n",
       "      <td>0</td>\n",
       "      <td>0</td>\n",
       "      <td>0</td>\n",
       "      <td>0</td>\n",
       "    </tr>\n",
       "    <tr>\n",
       "      <th>165</th>\n",
       "      <td>1</td>\n",
       "      <td>3</td>\n",
       "      <td>0</td>\n",
       "      <td>2</td>\n",
       "      <td>20.5250</td>\n",
       "      <td>0</td>\n",
       "      <td>1</td>\n",
       "      <td>0</td>\n",
       "      <td>1</td>\n",
       "      <td>0</td>\n",
       "      <td>1</td>\n",
       "    </tr>\n",
       "    <tr>\n",
       "      <th>50</th>\n",
       "      <td>0</td>\n",
       "      <td>3</td>\n",
       "      <td>4</td>\n",
       "      <td>1</td>\n",
       "      <td>39.6875</td>\n",
       "      <td>0</td>\n",
       "      <td>1</td>\n",
       "      <td>0</td>\n",
       "      <td>1</td>\n",
       "      <td>0</td>\n",
       "      <td>0</td>\n",
       "    </tr>\n",
       "    <tr>\n",
       "      <th>259</th>\n",
       "      <td>1</td>\n",
       "      <td>2</td>\n",
       "      <td>0</td>\n",
       "      <td>1</td>\n",
       "      <td>26.0000</td>\n",
       "      <td>0</td>\n",
       "      <td>0</td>\n",
       "      <td>0</td>\n",
       "      <td>1</td>\n",
       "      <td>0</td>\n",
       "      <td>1</td>\n",
       "    </tr>\n",
       "    <tr>\n",
       "      <th>306</th>\n",
       "      <td>1</td>\n",
       "      <td>1</td>\n",
       "      <td>0</td>\n",
       "      <td>0</td>\n",
       "      <td>110.8833</td>\n",
       "      <td>1</td>\n",
       "      <td>0</td>\n",
       "      <td>0</td>\n",
       "      <td>0</td>\n",
       "      <td>0</td>\n",
       "      <td>1</td>\n",
       "    </tr>\n",
       "  </tbody>\n",
       "</table>\n",
       "</div>"
      ],
      "text/plain": [
       "     survived  pclass  sibsp  parch      fare  alone  sex_male  \\\n",
       "583         0       1      0      0   40.1250      1         1   \n",
       "165         1       3      0      2   20.5250      0         1   \n",
       "50          0       3      4      1   39.6875      0         1   \n",
       "259         1       2      0      1   26.0000      0         0   \n",
       "306         1       1      0      0  110.8833      1         0   \n",
       "\n",
       "     embark_town_Queenstown  embark_town_Southampton  baseline_pred  model  \n",
       "583                       0                        0              0      0  \n",
       "165                       0                        1              0      1  \n",
       "50                        0                        1              0      0  \n",
       "259                       0                        1              0      1  \n",
       "306                       0                        0              0      1  "
      ]
     },
     "execution_count": 15,
     "metadata": {},
     "output_type": "execute_result"
    }
   ],
   "source": [
    "train['model'] = model.predict(x_train)\n",
    "train.head()"
   ]
  },
  {
   "cell_type": "code",
   "execution_count": 16,
   "id": "9a1de95d",
   "metadata": {},
   "outputs": [],
   "source": [
    "y_pred = model.predict(x_train)"
   ]
  },
  {
   "cell_type": "markdown",
   "id": "6db81b59",
   "metadata": {},
   "source": [
    "Evaluate your in-sample results using the model score, confusion matrix, and classification report."
   ]
  },
  {
   "cell_type": "code",
   "execution_count": 17,
   "id": "8a2c7af3",
   "metadata": {},
   "outputs": [
    {
     "data": {
      "text/plain": [
       "0.7570093457943925"
      ]
     },
     "execution_count": 17,
     "metadata": {},
     "output_type": "execute_result"
    }
   ],
   "source": [
    "model.score(x_validate,y_validate)"
   ]
  },
  {
   "cell_type": "code",
   "execution_count": 18,
   "id": "d9e1faab",
   "metadata": {},
   "outputs": [
    {
     "data": {
      "text/html": [
       "<div>\n",
       "<style scoped>\n",
       "    .dataframe tbody tr th:only-of-type {\n",
       "        vertical-align: middle;\n",
       "    }\n",
       "\n",
       "    .dataframe tbody tr th {\n",
       "        vertical-align: top;\n",
       "    }\n",
       "\n",
       "    .dataframe thead th {\n",
       "        text-align: right;\n",
       "    }\n",
       "</style>\n",
       "<table border=\"1\" class=\"dataframe\">\n",
       "  <thead>\n",
       "    <tr style=\"text-align: right;\">\n",
       "      <th></th>\n",
       "      <th>Pred Not</th>\n",
       "      <th>Pred Survived</th>\n",
       "    </tr>\n",
       "  </thead>\n",
       "  <tbody>\n",
       "    <tr>\n",
       "      <th>Not Survive</th>\n",
       "      <td>305</td>\n",
       "      <td>2</td>\n",
       "    </tr>\n",
       "    <tr>\n",
       "      <th>Survive</th>\n",
       "      <td>25</td>\n",
       "      <td>166</td>\n",
       "    </tr>\n",
       "  </tbody>\n",
       "</table>\n",
       "</div>"
      ],
      "text/plain": [
       "             Pred Not  Pred Survived\n",
       "Not Survive       305              2\n",
       "Survive            25            166"
      ]
     },
     "execution_count": 18,
     "metadata": {},
     "output_type": "execute_result"
    }
   ],
   "source": [
    "pd.DataFrame(confusion_matrix(y_train, y_pred), index = ['Not Survive','Survive'], columns=['Pred Not','Pred Survived'])"
   ]
  },
  {
   "cell_type": "code",
   "execution_count": 19,
   "id": "71e8c5c7",
   "metadata": {},
   "outputs": [
    {
     "data": {
      "text/html": [
       "<div>\n",
       "<style scoped>\n",
       "    .dataframe tbody tr th:only-of-type {\n",
       "        vertical-align: middle;\n",
       "    }\n",
       "\n",
       "    .dataframe tbody tr th {\n",
       "        vertical-align: top;\n",
       "    }\n",
       "\n",
       "    .dataframe thead th {\n",
       "        text-align: right;\n",
       "    }\n",
       "</style>\n",
       "<table border=\"1\" class=\"dataframe\">\n",
       "  <thead>\n",
       "    <tr style=\"text-align: right;\">\n",
       "      <th></th>\n",
       "      <th>precision</th>\n",
       "      <th>recall</th>\n",
       "      <th>f1-score</th>\n",
       "      <th>support</th>\n",
       "    </tr>\n",
       "  </thead>\n",
       "  <tbody>\n",
       "    <tr>\n",
       "      <th>0</th>\n",
       "      <td>0.924242</td>\n",
       "      <td>0.993485</td>\n",
       "      <td>0.957614</td>\n",
       "      <td>307.000000</td>\n",
       "    </tr>\n",
       "    <tr>\n",
       "      <th>1</th>\n",
       "      <td>0.988095</td>\n",
       "      <td>0.869110</td>\n",
       "      <td>0.924791</td>\n",
       "      <td>191.000000</td>\n",
       "    </tr>\n",
       "    <tr>\n",
       "      <th>accuracy</th>\n",
       "      <td>0.945783</td>\n",
       "      <td>0.945783</td>\n",
       "      <td>0.945783</td>\n",
       "      <td>0.945783</td>\n",
       "    </tr>\n",
       "    <tr>\n",
       "      <th>macro avg</th>\n",
       "      <td>0.956169</td>\n",
       "      <td>0.931298</td>\n",
       "      <td>0.941202</td>\n",
       "      <td>498.000000</td>\n",
       "    </tr>\n",
       "    <tr>\n",
       "      <th>weighted avg</th>\n",
       "      <td>0.948732</td>\n",
       "      <td>0.945783</td>\n",
       "      <td>0.945025</td>\n",
       "      <td>498.000000</td>\n",
       "    </tr>\n",
       "  </tbody>\n",
       "</table>\n",
       "</div>"
      ],
      "text/plain": [
       "              precision    recall  f1-score     support\n",
       "0              0.924242  0.993485  0.957614  307.000000\n",
       "1              0.988095  0.869110  0.924791  191.000000\n",
       "accuracy       0.945783  0.945783  0.945783    0.945783\n",
       "macro avg      0.956169  0.931298  0.941202  498.000000\n",
       "weighted avg   0.948732  0.945783  0.945025  498.000000"
      ]
     },
     "execution_count": 19,
     "metadata": {},
     "output_type": "execute_result"
    }
   ],
   "source": [
    "pd.DataFrame(classification_report(y_train, y_pred, output_dict=True)).T"
   ]
  },
  {
   "cell_type": "markdown",
   "id": "0066db6d",
   "metadata": {},
   "source": [
    "### Compute: Accuracy, true positive rate, false positive rate, true negative rate, false negative rate, precision, recall, f1-score, and support."
   ]
  },
  {
   "cell_type": "code",
   "execution_count": 20,
   "id": "0616beeb",
   "metadata": {},
   "outputs": [
    {
     "data": {
      "text/plain": [
       "0.9880952380952381"
      ]
     },
     "execution_count": 20,
     "metadata": {},
     "output_type": "execute_result"
    }
   ],
   "source": [
    "precision_score(y_train, y_pred)"
   ]
  },
  {
   "cell_type": "code",
   "execution_count": 21,
   "id": "5428d5d9",
   "metadata": {},
   "outputs": [
    {
     "data": {
      "text/plain": [
       "0.9457831325301205"
      ]
     },
     "execution_count": 21,
     "metadata": {},
     "output_type": "execute_result"
    }
   ],
   "source": [
    "accuracy_score(y_train, y_pred)"
   ]
  },
  {
   "cell_type": "code",
   "execution_count": 22,
   "id": "df84ecae",
   "metadata": {},
   "outputs": [
    {
     "data": {
      "text/plain": [
       "0.8691099476439791"
      ]
     },
     "execution_count": 22,
     "metadata": {},
     "output_type": "execute_result"
    }
   ],
   "source": [
    "recall_score(y_train, y_pred)"
   ]
  },
  {
   "cell_type": "code",
   "execution_count": 23,
   "id": "62168a74",
   "metadata": {},
   "outputs": [
    {
     "data": {
      "text/plain": [
       "0.9247910863509748"
      ]
     },
     "execution_count": 23,
     "metadata": {},
     "output_type": "execute_result"
    }
   ],
   "source": [
    "f1_score(y_train, y_pred)"
   ]
  },
  {
   "cell_type": "markdown",
   "id": "6e0726db",
   "metadata": {},
   "source": [
    "Run through steps 2-4 using a different max_depth value."
   ]
  },
  {
   "cell_type": "code",
   "execution_count": 24,
   "id": "80027c56",
   "metadata": {},
   "outputs": [
    {
     "data": {
      "text/plain": [
       "[Text(167.4, 181.2, 'X[5] <= 0.5\\ngini = 0.473\\nsamples = 498\\nvalue = [307, 191]'),\n",
       " Text(83.7, 108.72, 'X[0] <= 2.5\\ngini = 0.365\\nsamples = 175\\nvalue = [42, 133]'),\n",
       " Text(41.85, 36.23999999999998, 'gini = 0.081\\nsamples = 94\\nvalue = [4, 90]'),\n",
       " Text(125.55000000000001, 36.23999999999998, 'gini = 0.498\\nsamples = 81\\nvalue = [38, 43]'),\n",
       " Text(251.10000000000002, 108.72, 'X[3] <= 18.275\\ngini = 0.295\\nsamples = 323\\nvalue = [265, 58]'),\n",
       " Text(209.25, 36.23999999999998, 'gini = 0.184\\nsamples = 205\\nvalue = [184, 21]'),\n",
       " Text(292.95, 36.23999999999998, 'gini = 0.43\\nsamples = 118\\nvalue = [81, 37]')]"
      ]
     },
     "execution_count": 24,
     "metadata": {},
     "output_type": "execute_result"
    },
    {
     "data": {
      "image/png": "[encoded data removed]",
      "text/plain": [
       "<Figure size 432x288 with 1 Axes>"
      ]
     },
     "metadata": {
      "needs_background": "light"
     },
     "output_type": "display_data"
    }
   ],
   "source": [
    "model2 = DecisionTreeClassifier(max_depth = 2)\n",
    "model2.fit(x_train, y_train)\n",
    "plot_tree(model2)"
   ]
  },
  {
   "cell_type": "markdown",
   "id": "45887baf",
   "metadata": {},
   "source": [
    "### Which model performs better on your in-sample data?"
   ]
  },
  {
   "cell_type": "code",
   "execution_count": 25,
   "id": "c46f1d80",
   "metadata": {},
   "outputs": [
    {
     "data": {
      "text/plain": [
       "0.7991967871485943"
      ]
     },
     "execution_count": 25,
     "metadata": {},
     "output_type": "execute_result"
    }
   ],
   "source": [
    "model2.score(x_train, y_train)"
   ]
  },
  {
   "cell_type": "code",
   "execution_count": 26,
   "id": "eabcac3a",
   "metadata": {},
   "outputs": [
    {
     "data": {
      "text/plain": [
       "0.7616822429906542"
      ]
     },
     "execution_count": 26,
     "metadata": {},
     "output_type": "execute_result"
    }
   ],
   "source": [
    "model2.score(x_validate, y_validate)"
   ]
  },
  {
   "cell_type": "code",
   "execution_count": 27,
   "id": "d3105345",
   "metadata": {},
   "outputs": [
    {
     "data": {
      "text/html": [
       "<div>\n",
       "<style scoped>\n",
       "    .dataframe tbody tr th:only-of-type {\n",
       "        vertical-align: middle;\n",
       "    }\n",
       "\n",
       "    .dataframe tbody tr th {\n",
       "        vertical-align: top;\n",
       "    }\n",
       "\n",
       "    .dataframe thead th {\n",
       "        text-align: right;\n",
       "    }\n",
       "</style>\n",
       "<table border=\"1\" class=\"dataframe\">\n",
       "  <thead>\n",
       "    <tr style=\"text-align: right;\">\n",
       "      <th></th>\n",
       "      <th>survived</th>\n",
       "      <th>pclass</th>\n",
       "      <th>sibsp</th>\n",
       "      <th>parch</th>\n",
       "      <th>fare</th>\n",
       "      <th>alone</th>\n",
       "      <th>sex_male</th>\n",
       "      <th>embark_town_Queenstown</th>\n",
       "      <th>embark_town_Southampton</th>\n",
       "      <th>baseline_pred</th>\n",
       "      <th>model</th>\n",
       "      <th>model2</th>\n",
       "    </tr>\n",
       "  </thead>\n",
       "  <tbody>\n",
       "    <tr>\n",
       "      <th>583</th>\n",
       "      <td>0</td>\n",
       "      <td>1</td>\n",
       "      <td>0</td>\n",
       "      <td>0</td>\n",
       "      <td>40.1250</td>\n",
       "      <td>1</td>\n",
       "      <td>1</td>\n",
       "      <td>0</td>\n",
       "      <td>0</td>\n",
       "      <td>0</td>\n",
       "      <td>0</td>\n",
       "      <td>0</td>\n",
       "    </tr>\n",
       "    <tr>\n",
       "      <th>165</th>\n",
       "      <td>1</td>\n",
       "      <td>3</td>\n",
       "      <td>0</td>\n",
       "      <td>2</td>\n",
       "      <td>20.5250</td>\n",
       "      <td>0</td>\n",
       "      <td>1</td>\n",
       "      <td>0</td>\n",
       "      <td>1</td>\n",
       "      <td>0</td>\n",
       "      <td>1</td>\n",
       "      <td>0</td>\n",
       "    </tr>\n",
       "    <tr>\n",
       "      <th>50</th>\n",
       "      <td>0</td>\n",
       "      <td>3</td>\n",
       "      <td>4</td>\n",
       "      <td>1</td>\n",
       "      <td>39.6875</td>\n",
       "      <td>0</td>\n",
       "      <td>1</td>\n",
       "      <td>0</td>\n",
       "      <td>1</td>\n",
       "      <td>0</td>\n",
       "      <td>0</td>\n",
       "      <td>0</td>\n",
       "    </tr>\n",
       "    <tr>\n",
       "      <th>259</th>\n",
       "      <td>1</td>\n",
       "      <td>2</td>\n",
       "      <td>0</td>\n",
       "      <td>1</td>\n",
       "      <td>26.0000</td>\n",
       "      <td>0</td>\n",
       "      <td>0</td>\n",
       "      <td>0</td>\n",
       "      <td>1</td>\n",
       "      <td>0</td>\n",
       "      <td>1</td>\n",
       "      <td>1</td>\n",
       "    </tr>\n",
       "    <tr>\n",
       "      <th>306</th>\n",
       "      <td>1</td>\n",
       "      <td>1</td>\n",
       "      <td>0</td>\n",
       "      <td>0</td>\n",
       "      <td>110.8833</td>\n",
       "      <td>1</td>\n",
       "      <td>0</td>\n",
       "      <td>0</td>\n",
       "      <td>0</td>\n",
       "      <td>0</td>\n",
       "      <td>1</td>\n",
       "      <td>1</td>\n",
       "    </tr>\n",
       "  </tbody>\n",
       "</table>\n",
       "</div>"
      ],
      "text/plain": [
       "     survived  pclass  sibsp  parch      fare  alone  sex_male  \\\n",
       "583         0       1      0      0   40.1250      1         1   \n",
       "165         1       3      0      2   20.5250      0         1   \n",
       "50          0       3      4      1   39.6875      0         1   \n",
       "259         1       2      0      1   26.0000      0         0   \n",
       "306         1       1      0      0  110.8833      1         0   \n",
       "\n",
       "     embark_town_Queenstown  embark_town_Southampton  baseline_pred  model  \\\n",
       "583                       0                        0              0      0   \n",
       "165                       0                        1              0      1   \n",
       "50                        0                        1              0      0   \n",
       "259                       0                        1              0      1   \n",
       "306                       0                        0              0      1   \n",
       "\n",
       "     model2  \n",
       "583       0  \n",
       "165       0  \n",
       "50        0  \n",
       "259       1  \n",
       "306       1  "
      ]
     },
     "execution_count": 27,
     "metadata": {},
     "output_type": "execute_result"
    }
   ],
   "source": [
    "train['model2'] = model2.predict(x_train)\n",
    "train.head()"
   ]
  },
  {
   "cell_type": "code",
   "execution_count": 28,
   "id": "c9e47bbd",
   "metadata": {},
   "outputs": [],
   "source": [
    "y_pred_2 = model2.predict(x_train)"
   ]
  },
  {
   "cell_type": "code",
   "execution_count": 29,
   "id": "42f89b09",
   "metadata": {},
   "outputs": [
    {
     "data": {
      "text/html": [
       "<div>\n",
       "<style scoped>\n",
       "    .dataframe tbody tr th:only-of-type {\n",
       "        vertical-align: middle;\n",
       "    }\n",
       "\n",
       "    .dataframe tbody tr th {\n",
       "        vertical-align: top;\n",
       "    }\n",
       "\n",
       "    .dataframe thead th {\n",
       "        text-align: right;\n",
       "    }\n",
       "</style>\n",
       "<table border=\"1\" class=\"dataframe\">\n",
       "  <thead>\n",
       "    <tr style=\"text-align: right;\">\n",
       "      <th></th>\n",
       "      <th>Pred Not</th>\n",
       "      <th>Pred Survived</th>\n",
       "    </tr>\n",
       "  </thead>\n",
       "  <tbody>\n",
       "    <tr>\n",
       "      <th>Not Survive</th>\n",
       "      <td>265</td>\n",
       "      <td>42</td>\n",
       "    </tr>\n",
       "    <tr>\n",
       "      <th>Survive</th>\n",
       "      <td>58</td>\n",
       "      <td>133</td>\n",
       "    </tr>\n",
       "  </tbody>\n",
       "</table>\n",
       "</div>"
      ],
      "text/plain": [
       "             Pred Not  Pred Survived\n",
       "Not Survive       265             42\n",
       "Survive            58            133"
      ]
     },
     "execution_count": 29,
     "metadata": {},
     "output_type": "execute_result"
    }
   ],
   "source": [
    "pd.DataFrame(confusion_matrix(y_train, y_pred_2), index = ['Not Survive','Survive'], columns=['Pred Not','Pred Survived'])"
   ]
  },
  {
   "cell_type": "code",
   "execution_count": 30,
   "id": "0e9b1205",
   "metadata": {},
   "outputs": [
    {
     "data": {
      "text/html": [
       "<div>\n",
       "<style scoped>\n",
       "    .dataframe tbody tr th:only-of-type {\n",
       "        vertical-align: middle;\n",
       "    }\n",
       "\n",
       "    .dataframe tbody tr th {\n",
       "        vertical-align: top;\n",
       "    }\n",
       "\n",
       "    .dataframe thead th {\n",
       "        text-align: right;\n",
       "    }\n",
       "</style>\n",
       "<table border=\"1\" class=\"dataframe\">\n",
       "  <thead>\n",
       "    <tr style=\"text-align: right;\">\n",
       "      <th></th>\n",
       "      <th>precision</th>\n",
       "      <th>recall</th>\n",
       "      <th>f1-score</th>\n",
       "      <th>support</th>\n",
       "    </tr>\n",
       "  </thead>\n",
       "  <tbody>\n",
       "    <tr>\n",
       "      <th>0</th>\n",
       "      <td>0.820433</td>\n",
       "      <td>0.863192</td>\n",
       "      <td>0.841270</td>\n",
       "      <td>307.000000</td>\n",
       "    </tr>\n",
       "    <tr>\n",
       "      <th>1</th>\n",
       "      <td>0.760000</td>\n",
       "      <td>0.696335</td>\n",
       "      <td>0.726776</td>\n",
       "      <td>191.000000</td>\n",
       "    </tr>\n",
       "    <tr>\n",
       "      <th>accuracy</th>\n",
       "      <td>0.799197</td>\n",
       "      <td>0.799197</td>\n",
       "      <td>0.799197</td>\n",
       "      <td>0.799197</td>\n",
       "    </tr>\n",
       "    <tr>\n",
       "      <th>macro avg</th>\n",
       "      <td>0.790217</td>\n",
       "      <td>0.779764</td>\n",
       "      <td>0.784023</td>\n",
       "      <td>498.000000</td>\n",
       "    </tr>\n",
       "    <tr>\n",
       "      <th>weighted avg</th>\n",
       "      <td>0.797255</td>\n",
       "      <td>0.799197</td>\n",
       "      <td>0.797358</td>\n",
       "      <td>498.000000</td>\n",
       "    </tr>\n",
       "  </tbody>\n",
       "</table>\n",
       "</div>"
      ],
      "text/plain": [
       "              precision    recall  f1-score     support\n",
       "0              0.820433  0.863192  0.841270  307.000000\n",
       "1              0.760000  0.696335  0.726776  191.000000\n",
       "accuracy       0.799197  0.799197  0.799197    0.799197\n",
       "macro avg      0.790217  0.779764  0.784023  498.000000\n",
       "weighted avg   0.797255  0.799197  0.797358  498.000000"
      ]
     },
     "execution_count": 30,
     "metadata": {},
     "output_type": "execute_result"
    }
   ],
   "source": [
    "pd.DataFrame(classification_report(y_train, y_pred_2, output_dict=True)).T"
   ]
  },
  {
   "cell_type": "markdown",
   "id": "2434f75e",
   "metadata": {},
   "source": [
    "### Which model performs best on your out-of-sample data, the validate set?"
   ]
  },
  {
   "cell_type": "code",
   "execution_count": null,
   "id": "bc9ef66a",
   "metadata": {},
   "outputs": [],
   "source": []
  },
  {
   "cell_type": "markdown",
   "id": "837b1219",
   "metadata": {},
   "source": [
    "## Random Forest"
   ]
  },
  {
   "cell_type": "markdown",
   "id": "708a7429",
   "metadata": {},
   "source": [
    "### Fit the Random Forest classifier to your training sample and transform (i.e. make predictions on the training sample) setting the random_state accordingly and setting min_samples_leaf = 1 and max_depth = 10"
   ]
  },
  {
   "cell_type": "code",
   "execution_count": 31,
   "id": "f58f9165",
   "metadata": {},
   "outputs": [],
   "source": [
    "rf = RandomForestClassifier(bootstrap=True, \n",
    "                            class_weight=None, \n",
    "                            criterion='gini',\n",
    "                            min_samples_leaf=1,\n",
    "                            n_estimators=100,\n",
    "                            max_depth=10, \n",
    "                            random_state=123)"
   ]
  },
  {
   "cell_type": "code",
   "execution_count": 32,
   "id": "6c93db8c",
   "metadata": {
    "scrolled": true
   },
   "outputs": [
    {
     "data": {
      "text/plain": [
       "RandomForestClassifier(max_depth=10, random_state=123)"
      ]
     },
     "execution_count": 32,
     "metadata": {},
     "output_type": "execute_result"
    }
   ],
   "source": [
    "rf.fit(x_train,y_train)"
   ]
  },
  {
   "cell_type": "code",
   "execution_count": 33,
   "id": "42963ac0",
   "metadata": {},
   "outputs": [],
   "source": [
    "y_pred = rf.predict(x_train)"
   ]
  },
  {
   "cell_type": "code",
   "execution_count": 34,
   "id": "26c209d3",
   "metadata": {},
   "outputs": [],
   "source": [
    "y_pred_proba = rf.predict_proba(x_train)"
   ]
  },
  {
   "cell_type": "markdown",
   "id": "d4c66842",
   "metadata": {},
   "source": [
    "### Evaluate your results using the model score, confusion matrix, and classification report."
   ]
  },
  {
   "cell_type": "code",
   "execution_count": 35,
   "id": "ed6c82e6",
   "metadata": {},
   "outputs": [
    {
     "name": "stdout",
     "output_type": "stream",
     "text": [
      "Accuracy of random forest classifier on test set: 0.79\n"
     ]
    }
   ],
   "source": [
    "print('Accuracy of random forest classifier on test set: {:.2f}'\n",
    "     .format(rf.score(x_validate, y_validate)))"
   ]
  },
  {
   "cell_type": "code",
   "execution_count": 36,
   "id": "17ce5240",
   "metadata": {},
   "outputs": [
    {
     "data": {
      "text/html": [
       "<div>\n",
       "<style scoped>\n",
       "    .dataframe tbody tr th:only-of-type {\n",
       "        vertical-align: middle;\n",
       "    }\n",
       "\n",
       "    .dataframe tbody tr th {\n",
       "        vertical-align: top;\n",
       "    }\n",
       "\n",
       "    .dataframe thead th {\n",
       "        text-align: right;\n",
       "    }\n",
       "</style>\n",
       "<table border=\"1\" class=\"dataframe\">\n",
       "  <thead>\n",
       "    <tr style=\"text-align: right;\">\n",
       "      <th></th>\n",
       "      <th>0</th>\n",
       "      <th>1</th>\n",
       "    </tr>\n",
       "  </thead>\n",
       "  <tbody>\n",
       "    <tr>\n",
       "      <th>0</th>\n",
       "      <td>301</td>\n",
       "      <td>6</td>\n",
       "    </tr>\n",
       "    <tr>\n",
       "      <th>1</th>\n",
       "      <td>22</td>\n",
       "      <td>169</td>\n",
       "    </tr>\n",
       "  </tbody>\n",
       "</table>\n",
       "</div>"
      ],
      "text/plain": [
       "     0    1\n",
       "0  301    6\n",
       "1   22  169"
      ]
     },
     "execution_count": 36,
     "metadata": {},
     "output_type": "execute_result"
    }
   ],
   "source": [
    "pd.DataFrame(confusion_matrix(y_train, y_pred))"
   ]
  },
  {
   "cell_type": "code",
   "execution_count": 37,
   "id": "68791467",
   "metadata": {},
   "outputs": [],
   "source": [
    "tn = 300\n",
    "tp = 168\n",
    "fn = 23\n",
    "fp = 7"
   ]
  },
  {
   "cell_type": "code",
   "execution_count": 38,
   "id": "cf0e1014",
   "metadata": {},
   "outputs": [
    {
     "name": "stdout",
     "output_type": "stream",
     "text": [
      "              precision    recall  f1-score   support\n",
      "\n",
      "           0       0.93      0.98      0.96       307\n",
      "           1       0.97      0.88      0.92       191\n",
      "\n",
      "    accuracy                           0.94       498\n",
      "   macro avg       0.95      0.93      0.94       498\n",
      "weighted avg       0.94      0.94      0.94       498\n",
      "\n"
     ]
    }
   ],
   "source": [
    "print(classification_report(y_train, y_pred))"
   ]
  },
  {
   "cell_type": "markdown",
   "id": "b0e0d989",
   "metadata": {},
   "source": [
    "### Print and clearly label the following: Accuracy, true positive rate, false positive rate, true negative rate, false negative rate, precision, recall, f1-score, and support."
   ]
  },
  {
   "cell_type": "code",
   "execution_count": 39,
   "id": "61a9ca1d",
   "metadata": {},
   "outputs": [
    {
     "name": "stdout",
     "output_type": "stream",
     "text": [
      "accuracy score is 94.38%\n"
     ]
    }
   ],
   "source": [
    "print(f'accuracy score is {accuracy_score(y_train, y_pred):.2%}')"
   ]
  },
  {
   "cell_type": "code",
   "execution_count": 40,
   "id": "fd2ff740",
   "metadata": {},
   "outputs": [
    {
     "name": "stdout",
     "output_type": "stream",
     "text": [
      "true positive rate is 0.3373493975903614\n"
     ]
    }
   ],
   "source": [
    "print(f'true positive rate is {tp / (tn + tp+fn+fp)}')"
   ]
  },
  {
   "cell_type": "code",
   "execution_count": 41,
   "id": "8b9eb1d3",
   "metadata": {},
   "outputs": [
    {
     "name": "stdout",
     "output_type": "stream",
     "text": [
      "true negative rate is 0.6024096385542169\n"
     ]
    }
   ],
   "source": [
    "print(f'true negative rate is {tn / (tn + tp+fn+fp)}')"
   ]
  },
  {
   "cell_type": "code",
   "execution_count": 42,
   "id": "1c3ca00e",
   "metadata": {},
   "outputs": [
    {
     "name": "stdout",
     "output_type": "stream",
     "text": [
      "false positive rate is 0.014056224899598393\n"
     ]
    }
   ],
   "source": [
    "print(f'false positive rate is {fp / (tn + tp+fn+fp)}')"
   ]
  },
  {
   "cell_type": "code",
   "execution_count": 43,
   "id": "756cb24b",
   "metadata": {},
   "outputs": [
    {
     "name": "stdout",
     "output_type": "stream",
     "text": [
      "false negative rate is 0.04618473895582329\n"
     ]
    }
   ],
   "source": [
    "print(f'false negative rate is {fn / (tn + tp+fn+fp)}')"
   ]
  },
  {
   "cell_type": "code",
   "execution_count": 44,
   "id": "96b68525",
   "metadata": {},
   "outputs": [
    {
     "name": "stdout",
     "output_type": "stream",
     "text": [
      "recall score is 88.48%\n"
     ]
    }
   ],
   "source": [
    "print(f'recall score is {recall_score(y_train, y_pred):.2%}')"
   ]
  },
  {
   "cell_type": "code",
   "execution_count": 45,
   "id": "0d074d4b",
   "metadata": {},
   "outputs": [
    {
     "name": "stdout",
     "output_type": "stream",
     "text": [
      "precision score is 96.57%\n"
     ]
    }
   ],
   "source": [
    "print(f'precision score is {precision_score(y_train, y_pred):.2%}')"
   ]
  },
  {
   "cell_type": "code",
   "execution_count": 46,
   "id": "ad1afd27",
   "metadata": {},
   "outputs": [
    {
     "name": "stdout",
     "output_type": "stream",
     "text": [
      "f1 score is 0.9234972677595629\n"
     ]
    }
   ],
   "source": [
    "print(f'f1 score is {f1_score(y_train, y_pred)}')"
   ]
  },
  {
   "cell_type": "markdown",
   "id": "13d7f42e",
   "metadata": {},
   "source": [
    "### Run through steps increasing your min_samples_leaf and decreasing your max_depth."
   ]
  },
  {
   "cell_type": "code",
   "execution_count": 47,
   "id": "e8afde1a",
   "metadata": {},
   "outputs": [],
   "source": [
    "rf = RandomForestClassifier(bootstrap=True, \n",
    "                            class_weight=None, \n",
    "                            criterion='gini',\n",
    "                            min_samples_leaf=7,\n",
    "                            n_estimators=100,\n",
    "                            max_depth=5, \n",
    "                            random_state=123)"
   ]
  },
  {
   "cell_type": "code",
   "execution_count": 48,
   "id": "0dbe4eae",
   "metadata": {},
   "outputs": [
    {
     "data": {
      "text/plain": [
       "RandomForestClassifier(max_depth=5, min_samples_leaf=7, random_state=123)"
      ]
     },
     "execution_count": 48,
     "metadata": {},
     "output_type": "execute_result"
    }
   ],
   "source": [
    "rf.fit(x_train,y_train)"
   ]
  },
  {
   "cell_type": "code",
   "execution_count": 49,
   "id": "bce6e2b3",
   "metadata": {},
   "outputs": [],
   "source": [
    "y_pred = rf.predict(x_train)\n",
    "y_pred_proba = rf.predict_proba(x_train)"
   ]
  },
  {
   "cell_type": "code",
   "execution_count": 50,
   "id": "957c9c5d",
   "metadata": {},
   "outputs": [
    {
     "name": "stdout",
     "output_type": "stream",
     "text": [
      "Accuracy of random forest classifier on test set: 0.80\n"
     ]
    }
   ],
   "source": [
    "print('Accuracy of random forest classifier on test set: {:.2f}'\n",
    "     .format(rf.score(x_validate, y_validate)))"
   ]
  },
  {
   "cell_type": "code",
   "execution_count": 51,
   "id": "9ed07c23",
   "metadata": {},
   "outputs": [
    {
     "data": {
      "text/html": [
       "<div>\n",
       "<style scoped>\n",
       "    .dataframe tbody tr th:only-of-type {\n",
       "        vertical-align: middle;\n",
       "    }\n",
       "\n",
       "    .dataframe tbody tr th {\n",
       "        vertical-align: top;\n",
       "    }\n",
       "\n",
       "    .dataframe thead th {\n",
       "        text-align: right;\n",
       "    }\n",
       "</style>\n",
       "<table border=\"1\" class=\"dataframe\">\n",
       "  <thead>\n",
       "    <tr style=\"text-align: right;\">\n",
       "      <th></th>\n",
       "      <th>0</th>\n",
       "      <th>1</th>\n",
       "    </tr>\n",
       "  </thead>\n",
       "  <tbody>\n",
       "    <tr>\n",
       "      <th>0</th>\n",
       "      <td>290</td>\n",
       "      <td>17</td>\n",
       "    </tr>\n",
       "    <tr>\n",
       "      <th>1</th>\n",
       "      <td>67</td>\n",
       "      <td>124</td>\n",
       "    </tr>\n",
       "  </tbody>\n",
       "</table>\n",
       "</div>"
      ],
      "text/plain": [
       "     0    1\n",
       "0  290   17\n",
       "1   67  124"
      ]
     },
     "execution_count": 51,
     "metadata": {},
     "output_type": "execute_result"
    }
   ],
   "source": [
    "pd.DataFrame(confusion_matrix(y_train, y_pred))"
   ]
  },
  {
   "cell_type": "code",
   "execution_count": 52,
   "id": "9986c6d6",
   "metadata": {},
   "outputs": [
    {
     "name": "stdout",
     "output_type": "stream",
     "text": [
      "              precision    recall  f1-score   support\n",
      "\n",
      "           0       0.81      0.94      0.87       307\n",
      "           1       0.88      0.65      0.75       191\n",
      "\n",
      "    accuracy                           0.83       498\n",
      "   macro avg       0.85      0.80      0.81       498\n",
      "weighted avg       0.84      0.83      0.82       498\n",
      "\n"
     ]
    }
   ],
   "source": [
    "print(classification_report(y_train, y_pred))"
   ]
  },
  {
   "cell_type": "code",
   "execution_count": 90,
   "id": "c4a0b46e",
   "metadata": {},
   "outputs": [],
   "source": [
    "tn = 290\n",
    "tp = 124\n",
    "fn = 67\n",
    "fp = 17"
   ]
  },
  {
   "cell_type": "code",
   "execution_count": 91,
   "id": "68416fb1",
   "metadata": {},
   "outputs": [
    {
     "name": "stdout",
     "output_type": "stream",
     "text": [
      "accuracy score is 73.69%\n",
      "true positive rate is 0.2490\n",
      "true negative rate is 0.5823\n",
      "false positive rate is 0.0341\n",
      "false negative rate is 0.1345\n",
      "recall score is 54.45%\n",
      "precision score is 70.27%\n",
      "f1 score is 0.6135693215339234\n"
     ]
    }
   ],
   "source": [
    "print(f'accuracy score is {accuracy_score(y_train, y_pred):.2%}')\n",
    "print(f'true positive rate is {tp / (tn + tp+fn+fp):.4f}')\n",
    "print(f'true negative rate is {tn / (tn + tp+fn+fp):.4f}')\n",
    "print(f'false positive rate is {fp / (tn + tp+fn+fp):.4f}')\n",
    "print(f'false negative rate is {fn / (tn + tp+fn+fp):.4f}')\n",
    "print(f'recall score is {recall_score(y_train, y_pred):.2%}')\n",
    "print(f'precision score is {precision_score(y_train, y_pred):.2%}')\n",
    "print(f'f1 score is {f1_score(y_train, y_pred)}')"
   ]
  },
  {
   "cell_type": "markdown",
   "id": "d9bf4f95",
   "metadata": {},
   "source": [
    "### What are the differences in the evaluation metrics? Which performs better on your in-sample data? Why?"
   ]
  },
  {
   "cell_type": "code",
   "execution_count": null,
   "id": "13f01634",
   "metadata": {},
   "outputs": [],
   "source": []
  },
  {
   "cell_type": "markdown",
   "id": "5fb7d39d",
   "metadata": {},
   "source": [
    "# KNN"
   ]
  },
  {
   "cell_type": "markdown",
   "id": "0da4e380",
   "metadata": {},
   "source": [
    " ### Fit a K-Nearest Neighbors classifier to your training sample and transform (i.e. make predictions on the training sample)`"
   ]
  },
  {
   "cell_type": "code",
   "execution_count": 92,
   "id": "1f681765",
   "metadata": {},
   "outputs": [
    {
     "data": {
      "text/plain": [
       "KNeighborsClassifier(n_neighbors=4)"
      ]
     },
     "execution_count": 92,
     "metadata": {},
     "output_type": "execute_result"
    }
   ],
   "source": [
    "knn = KNeighborsClassifier(n_neighbors = 4)\n",
    "knn.fit(x_train, y_train)"
   ]
  },
  {
   "cell_type": "code",
   "execution_count": 93,
   "id": "180b861e",
   "metadata": {},
   "outputs": [],
   "source": [
    "y_pred = knn.predict(x_train)"
   ]
  },
  {
   "cell_type": "code",
   "execution_count": 94,
   "id": "6856e2d0",
   "metadata": {},
   "outputs": [],
   "source": [
    "y_pred_proba = knn.predict_proba(x_train)"
   ]
  },
  {
   "cell_type": "markdown",
   "id": "c5d29314",
   "metadata": {},
   "source": [
    "### Evaluate your results using the model score, confusion matrix, and classification report."
   ]
  },
  {
   "cell_type": "code",
   "execution_count": 95,
   "id": "72337a99",
   "metadata": {
    "scrolled": true
   },
   "outputs": [
    {
     "name": "stdout",
     "output_type": "stream",
     "text": [
      "Model score: 0.82\n"
     ]
    }
   ],
   "source": [
    "print(f'Model score: {knn.score(x_train,y_train):.2f}')"
   ]
  },
  {
   "cell_type": "code",
   "execution_count": 96,
   "id": "369a9de0",
   "metadata": {},
   "outputs": [
    {
     "data": {
      "text/html": [
       "<div>\n",
       "<style scoped>\n",
       "    .dataframe tbody tr th:only-of-type {\n",
       "        vertical-align: middle;\n",
       "    }\n",
       "\n",
       "    .dataframe tbody tr th {\n",
       "        vertical-align: top;\n",
       "    }\n",
       "\n",
       "    .dataframe thead th {\n",
       "        text-align: right;\n",
       "    }\n",
       "</style>\n",
       "<table border=\"1\" class=\"dataframe\">\n",
       "  <thead>\n",
       "    <tr style=\"text-align: right;\">\n",
       "      <th></th>\n",
       "      <th>0</th>\n",
       "      <th>1</th>\n",
       "    </tr>\n",
       "  </thead>\n",
       "  <tbody>\n",
       "    <tr>\n",
       "      <th>0</th>\n",
       "      <td>286</td>\n",
       "      <td>21</td>\n",
       "    </tr>\n",
       "    <tr>\n",
       "      <th>1</th>\n",
       "      <td>70</td>\n",
       "      <td>121</td>\n",
       "    </tr>\n",
       "  </tbody>\n",
       "</table>\n",
       "</div>"
      ],
      "text/plain": [
       "     0    1\n",
       "0  286   21\n",
       "1   70  121"
      ]
     },
     "execution_count": 96,
     "metadata": {},
     "output_type": "execute_result"
    }
   ],
   "source": [
    "pd.DataFrame(confusion_matrix(y_train, y_pred))"
   ]
  },
  {
   "cell_type": "code",
   "execution_count": 97,
   "id": "3735ccf5",
   "metadata": {},
   "outputs": [
    {
     "data": {
      "text/html": [
       "<div>\n",
       "<style scoped>\n",
       "    .dataframe tbody tr th:only-of-type {\n",
       "        vertical-align: middle;\n",
       "    }\n",
       "\n",
       "    .dataframe tbody tr th {\n",
       "        vertical-align: top;\n",
       "    }\n",
       "\n",
       "    .dataframe thead th {\n",
       "        text-align: right;\n",
       "    }\n",
       "</style>\n",
       "<table border=\"1\" class=\"dataframe\">\n",
       "  <thead>\n",
       "    <tr style=\"text-align: right;\">\n",
       "      <th></th>\n",
       "      <th>precision</th>\n",
       "      <th>recall</th>\n",
       "      <th>f1-score</th>\n",
       "      <th>support</th>\n",
       "    </tr>\n",
       "  </thead>\n",
       "  <tbody>\n",
       "    <tr>\n",
       "      <th>0</th>\n",
       "      <td>0.803371</td>\n",
       "      <td>0.931596</td>\n",
       "      <td>0.862745</td>\n",
       "      <td>307.000000</td>\n",
       "    </tr>\n",
       "    <tr>\n",
       "      <th>1</th>\n",
       "      <td>0.852113</td>\n",
       "      <td>0.633508</td>\n",
       "      <td>0.726727</td>\n",
       "      <td>191.000000</td>\n",
       "    </tr>\n",
       "    <tr>\n",
       "      <th>accuracy</th>\n",
       "      <td>0.817269</td>\n",
       "      <td>0.817269</td>\n",
       "      <td>0.817269</td>\n",
       "      <td>0.817269</td>\n",
       "    </tr>\n",
       "    <tr>\n",
       "      <th>macro avg</th>\n",
       "      <td>0.827742</td>\n",
       "      <td>0.782552</td>\n",
       "      <td>0.794736</td>\n",
       "      <td>498.000000</td>\n",
       "    </tr>\n",
       "    <tr>\n",
       "      <th>weighted avg</th>\n",
       "      <td>0.822065</td>\n",
       "      <td>0.817269</td>\n",
       "      <td>0.810577</td>\n",
       "      <td>498.000000</td>\n",
       "    </tr>\n",
       "  </tbody>\n",
       "</table>\n",
       "</div>"
      ],
      "text/plain": [
       "              precision    recall  f1-score     support\n",
       "0              0.803371  0.931596  0.862745  307.000000\n",
       "1              0.852113  0.633508  0.726727  191.000000\n",
       "accuracy       0.817269  0.817269  0.817269    0.817269\n",
       "macro avg      0.827742  0.782552  0.794736  498.000000\n",
       "weighted avg   0.822065  0.817269  0.810577  498.000000"
      ]
     },
     "execution_count": 97,
     "metadata": {},
     "output_type": "execute_result"
    }
   ],
   "source": [
    "pd.DataFrame(classification_report(y_train, y_pred,output_dict=True)).T"
   ]
  },
  {
   "cell_type": "markdown",
   "id": "e5ea9c0d",
   "metadata": {},
   "source": [
    "### Print and clearly label the following: Accuracy, true positive rate, false positive rate, true negative rate, false negative rate, precision, recall, f1-score, and support."
   ]
  },
  {
   "cell_type": "code",
   "execution_count": 98,
   "id": "8e33c36d",
   "metadata": {},
   "outputs": [],
   "source": [
    "tp = 123\n",
    "tn = 286\n",
    "fp = 68\n",
    "fn = 21"
   ]
  },
  {
   "cell_type": "code",
   "execution_count": 99,
   "id": "5a86b8a8",
   "metadata": {},
   "outputs": [
    {
     "name": "stdout",
     "output_type": "stream",
     "text": [
      "accuracy score is 81.73%\n",
      "true positive rate is 0.25\n",
      "true negative rate is 0.57\n",
      "false positive rate is 0.14\n",
      "false negative rate is 0.04\n",
      "recall score is 63.35%\n",
      "precision score is 85.21%\n",
      "f1 score is 0.73\n"
     ]
    }
   ],
   "source": [
    "print(f'accuracy score is {accuracy_score(y_train, y_pred):.2%}')\n",
    "print(f'true positive rate is {tp / (tn + tp+fn+fp):.2f}')\n",
    "print(f'true negative rate is {tn / (tn + tp+fn+fp):.2f}')\n",
    "print(f'false positive rate is {fp / (tn + tp+fn+fp):.2f}')\n",
    "print(f'false negative rate is {fn / (tn + tp+fn+fp):.2f}')\n",
    "print(f'recall score is {recall_score(y_train, y_pred):.2%}')\n",
    "print(f'precision score is {precision_score(y_train, y_pred):.2%}')\n",
    "print(f'f1 score is {f1_score(y_train, y_pred):.2f}')"
   ]
  },
  {
   "cell_type": "markdown",
   "id": "1b7528b6",
   "metadata": {},
   "source": [
    "### Run through steps 2-4 setting k to 10\n",
    "\n",
    "### Run through setps 2-4 setting k to 20"
   ]
  },
  {
   "cell_type": "code",
   "execution_count": 100,
   "id": "12ecb866",
   "metadata": {},
   "outputs": [
    {
     "data": {
      "text/plain": [
       "KNeighborsClassifier(n_neighbors=10)"
      ]
     },
     "execution_count": 100,
     "metadata": {},
     "output_type": "execute_result"
    }
   ],
   "source": [
    "knn10 = KNeighborsClassifier(n_neighbors = 10)\n",
    "knn10.fit(x_train, y_train)"
   ]
  },
  {
   "cell_type": "code",
   "execution_count": 101,
   "id": "eada90fb",
   "metadata": {},
   "outputs": [],
   "source": [
    "y_pred = knn10.predict(x_train)"
   ]
  },
  {
   "cell_type": "code",
   "execution_count": 102,
   "id": "0dfe33be",
   "metadata": {},
   "outputs": [],
   "source": [
    "y_pred_proba = knn10.predict_proba(x_train)"
   ]
  },
  {
   "cell_type": "code",
   "execution_count": 103,
   "id": "dbc232cb",
   "metadata": {},
   "outputs": [
    {
     "name": "stdout",
     "output_type": "stream",
     "text": [
      "0.78\n"
     ]
    }
   ],
   "source": [
    "#model score\n",
    "print(f'{knn10.score(x_train,y_train):.2f}')"
   ]
  },
  {
   "cell_type": "code",
   "execution_count": 104,
   "id": "cdeadf74",
   "metadata": {
    "scrolled": true
   },
   "outputs": [
    {
     "data": {
      "text/html": [
       "<div>\n",
       "<style scoped>\n",
       "    .dataframe tbody tr th:only-of-type {\n",
       "        vertical-align: middle;\n",
       "    }\n",
       "\n",
       "    .dataframe tbody tr th {\n",
       "        vertical-align: top;\n",
       "    }\n",
       "\n",
       "    .dataframe thead th {\n",
       "        text-align: right;\n",
       "    }\n",
       "</style>\n",
       "<table border=\"1\" class=\"dataframe\">\n",
       "  <thead>\n",
       "    <tr style=\"text-align: right;\">\n",
       "      <th></th>\n",
       "      <th>0</th>\n",
       "      <th>1</th>\n",
       "    </tr>\n",
       "  </thead>\n",
       "  <tbody>\n",
       "    <tr>\n",
       "      <th>0</th>\n",
       "      <td>267</td>\n",
       "      <td>40</td>\n",
       "    </tr>\n",
       "    <tr>\n",
       "      <th>1</th>\n",
       "      <td>68</td>\n",
       "      <td>123</td>\n",
       "    </tr>\n",
       "  </tbody>\n",
       "</table>\n",
       "</div>"
      ],
      "text/plain": [
       "     0    1\n",
       "0  267   40\n",
       "1   68  123"
      ]
     },
     "execution_count": 104,
     "metadata": {},
     "output_type": "execute_result"
    }
   ],
   "source": [
    "pd.DataFrame(confusion_matrix(y_train, y_pred))"
   ]
  },
  {
   "cell_type": "code",
   "execution_count": 105,
   "id": "a57d01aa",
   "metadata": {},
   "outputs": [
    {
     "name": "stdout",
     "output_type": "stream",
     "text": [
      "              precision    recall  f1-score   support\n",
      "\n",
      "           0       0.80      0.87      0.83       307\n",
      "           1       0.75      0.64      0.69       191\n",
      "\n",
      "    accuracy                           0.78       498\n",
      "   macro avg       0.78      0.76      0.76       498\n",
      "weighted avg       0.78      0.78      0.78       498\n",
      "\n"
     ]
    }
   ],
   "source": [
    "print(classification_report(y_train, y_pred))"
   ]
  },
  {
   "cell_type": "code",
   "execution_count": 106,
   "id": "8de30952",
   "metadata": {},
   "outputs": [],
   "source": [
    "tp = 123\n",
    "tn = 267\n",
    "fp = 68\n",
    "fn = 40"
   ]
  },
  {
   "cell_type": "code",
   "execution_count": 107,
   "id": "e38ded88",
   "metadata": {},
   "outputs": [
    {
     "name": "stdout",
     "output_type": "stream",
     "text": [
      "Setting k to 10\n",
      "---------------\n",
      "accuracy score is 0.7831325301204819\n",
      "true positive rate is 0.2469879518072289\n",
      "true negative rate is 0.536144578313253\n",
      "false positive rate is 0.13654618473895583\n",
      "false negative rate is 0.08032128514056225\n",
      "recall score is 0.643979057591623\n",
      "precision score is 0.754601226993865\n",
      "f1 score is 0.6949152542372882\n"
     ]
    }
   ],
   "source": [
    "print ('Setting k to 10')\n",
    "print( '---------------')\n",
    "print(f'accuracy score is {accuracy_score(y_train, y_pred)}')\n",
    "print(f'true positive rate is {tp / (tn + tp+fn+fp)}')\n",
    "print(f'true negative rate is {tn / (tn + tp+fn+fp)}')\n",
    "print(f'false positive rate is {fp / (tn + tp+fn+fp)}')\n",
    "print(f'false negative rate is {fn / (tn + tp+fn+fp)}')\n",
    "print(f'recall score is {recall_score(y_train, y_pred)}')\n",
    "print(f'precision score is {precision_score(y_train, y_pred)}')\n",
    "print(f'f1 score is {f1_score(y_train, y_pred)}')"
   ]
  },
  {
   "cell_type": "code",
   "execution_count": 108,
   "id": "4b5e4025",
   "metadata": {},
   "outputs": [
    {
     "data": {
      "text/plain": [
       "KNeighborsClassifier(n_neighbors=20)"
      ]
     },
     "execution_count": 108,
     "metadata": {},
     "output_type": "execute_result"
    }
   ],
   "source": [
    "knn20 = KNeighborsClassifier(n_neighbors = 20)\n",
    "knn20.fit(x_train, y_train)"
   ]
  },
  {
   "cell_type": "code",
   "execution_count": 109,
   "id": "04711f4e",
   "metadata": {},
   "outputs": [],
   "source": [
    "y_pred = knn20.predict(x_train)"
   ]
  },
  {
   "cell_type": "code",
   "execution_count": 110,
   "id": "1f2c2da9",
   "metadata": {},
   "outputs": [],
   "source": [
    "y_pred_proba = knn20.predict_proba(x_train)"
   ]
  },
  {
   "cell_type": "code",
   "execution_count": 111,
   "id": "5c92b9b0",
   "metadata": {},
   "outputs": [
    {
     "name": "stdout",
     "output_type": "stream",
     "text": [
      "0.74\n"
     ]
    }
   ],
   "source": [
    "#model score\n",
    "print(f'{knn20.score(x_train,y_train):.2f}')"
   ]
  },
  {
   "cell_type": "code",
   "execution_count": 112,
   "id": "a2f6a65b",
   "metadata": {},
   "outputs": [
    {
     "name": "stdout",
     "output_type": "stream",
     "text": [
      "[[263  44]\n",
      " [ 87 104]]\n"
     ]
    }
   ],
   "source": [
    "#confusion matrix\n",
    "print(confusion_matrix(y_train, y_pred))"
   ]
  },
  {
   "cell_type": "code",
   "execution_count": 113,
   "id": "8160d501",
   "metadata": {},
   "outputs": [
    {
     "name": "stdout",
     "output_type": "stream",
     "text": [
      "              precision    recall  f1-score   support\n",
      "\n",
      "           0       0.75      0.86      0.80       307\n",
      "           1       0.70      0.54      0.61       191\n",
      "\n",
      "    accuracy                           0.74       498\n",
      "   macro avg       0.73      0.70      0.71       498\n",
      "weighted avg       0.73      0.74      0.73       498\n",
      "\n"
     ]
    }
   ],
   "source": [
    "print(classification_report(y_train, y_pred))"
   ]
  },
  {
   "cell_type": "code",
   "execution_count": 114,
   "id": "649b2675",
   "metadata": {},
   "outputs": [],
   "source": [
    "tp = 104\n",
    "tn = 263\n",
    "fp = 87\n",
    "fn = 44"
   ]
  },
  {
   "cell_type": "code",
   "execution_count": 115,
   "id": "050a69ab",
   "metadata": {
    "scrolled": true
   },
   "outputs": [
    {
     "name": "stdout",
     "output_type": "stream",
     "text": [
      "Setting k to 20\n",
      "---------------\n",
      "accuracy score is 0.7369477911646586\n",
      "true positive rate is 0.20883534136546184\n",
      "true negative rate is 0.5281124497991968\n",
      "false positive rate is 0.1746987951807229\n",
      "false negative rate is 0.08835341365461848\n",
      "recall score is 0.5445026178010471\n",
      "precision score is 0.7027027027027027\n",
      "f1 score is 0.6135693215339234\n"
     ]
    }
   ],
   "source": [
    "print ('Setting k to 20')\n",
    "print( '---------------')\n",
    "print(f'accuracy score is {accuracy_score(y_train, y_pred)}')\n",
    "print(f'true positive rate is {tp / (tn + tp+fn+fp)}')\n",
    "print(f'true negative rate is {tn / (tn + tp+fn+fp)}')\n",
    "print(f'false positive rate is {fp / (tn + tp+fn+fp)}')\n",
    "print(f'false negative rate is {fn / (tn + tp+fn+fp)}')\n",
    "print(f'recall score is {recall_score(y_train, y_pred)}')\n",
    "print(f'precision score is {precision_score(y_train, y_pred)}')\n",
    "print(f'f1 score is {f1_score(y_train, y_pred)}')"
   ]
  },
  {
   "cell_type": "markdown",
   "id": "36b978e9",
   "metadata": {},
   "source": [
    "### What are the differences in the evaluation metrics? Which performs better on your in-sample data? Why?"
   ]
  },
  {
   "cell_type": "code",
   "execution_count": null,
   "id": "cc36d3fd",
   "metadata": {},
   "outputs": [],
   "source": []
  },
  {
   "cell_type": "markdown",
   "id": "cbbe777e",
   "metadata": {},
   "source": [
    "### Which model performs best on our out-of-sample data from validate?"
   ]
  },
  {
   "cell_type": "code",
   "execution_count": 116,
   "id": "4967e438",
   "metadata": {},
   "outputs": [
    {
     "name": "stdout",
     "output_type": "stream",
     "text": [
      "Accuracy of KNN classifier on training set n_neighbors set to 5: 0.82\n",
      "Accuracy of KNN classifier on validate set with n_neighbors set to 5: 0.73\n",
      "\n",
      "Accuracy of KNN classifier on training set n_neighbors set to 10: 0.78\n",
      "Accuracy of KNN classifier on validate set with n_neighbors set to 10: 0.71\n",
      "\n",
      "Accuracy of KNN classifier on training set n_neighbors set to 20: 0.74\n",
      "Accuracy of KNN classifier on validate set with n_neighbors set to 20: 0.67\n"
     ]
    }
   ],
   "source": [
    "print('Accuracy of KNN classifier on training set n_neighbors set to 5: {:.2f}'\n",
    "     .format(knn.score(x_train, y_train)))\n",
    "print('Accuracy of KNN classifier on validate set with n_neighbors set to 5: {:.2f}\\n'\n",
    "     .format(knn.score(x_validate, y_validate)))\n",
    "print('Accuracy of KNN classifier on training set n_neighbors set to 10: {:.2f}'\n",
    "     .format(knn10.score(x_train, y_train)))\n",
    "print('Accuracy of KNN classifier on validate set with n_neighbors set to 10: {:.2f}\\n'\n",
    "     .format(knn10.score(x_validate, y_validate)))\n",
    "print('Accuracy of KNN classifier on training set n_neighbors set to 20: {:.2f}'\n",
    "     .format(knn20.score(x_train, y_train)))\n",
    "print('Accuracy of KNN classifier on validate set with n_neighbors set to 20: {:.2f}'\n",
    "     .format(knn20.score(x_validate, y_validate)))"
   ]
  },
  {
   "cell_type": "markdown",
   "id": "f093490e-9e49-4765-8021-af1623a45575",
   "metadata": {},
   "source": [
    "# Logistic Regression"
   ]
  },
  {
   "cell_type": "markdown",
   "id": "7753fa4e-1721-433c-9a9c-624d6f5d6d61",
   "metadata": {},
   "source": [
    "### Create a model that includes age in addition to fare and pclass. Does this model perform better than your baseline?"
   ]
  },
  {
   "cell_type": "code",
   "execution_count": 25,
   "id": "1fcbd069-4454-41b5-a0df-c1883e4c8dff",
   "metadata": {},
   "outputs": [],
   "source": [
    "df = acquire.get_titanic_data()"
   ]
  },
  {
   "cell_type": "code",
   "execution_count": 26,
   "id": "1deb10bf-5e9b-4565-b11b-9f4b370c98f4",
   "metadata": {},
   "outputs": [
    {
     "name": "stdout",
     "output_type": "stream",
     "text": [
      "<class 'pandas.core.frame.DataFrame'>\n",
      "Int64Index: 891 entries, 0 to 890\n",
      "Data columns (total 13 columns):\n",
      " #   Column        Non-Null Count  Dtype  \n",
      "---  ------        --------------  -----  \n",
      " 0   passenger_id  891 non-null    int64  \n",
      " 1   survived      891 non-null    int64  \n",
      " 2   pclass        891 non-null    int64  \n",
      " 3   sex           891 non-null    object \n",
      " 4   age           714 non-null    float64\n",
      " 5   sibsp         891 non-null    int64  \n",
      " 6   parch         891 non-null    int64  \n",
      " 7   fare          891 non-null    float64\n",
      " 8   embarked      889 non-null    object \n",
      " 9   class         891 non-null    object \n",
      " 10  deck          203 non-null    object \n",
      " 11  embark_town   889 non-null    object \n",
      " 12  alone         891 non-null    int64  \n",
      "dtypes: float64(2), int64(6), object(5)\n",
      "memory usage: 97.5+ KB\n"
     ]
    }
   ],
   "source": [
    "df.info()"
   ]
  },
  {
   "cell_type": "code",
   "execution_count": 27,
   "id": "fd099821-31c8-495b-bccc-aed34634cefb",
   "metadata": {},
   "outputs": [
    {
     "name": "stdout",
     "output_type": "stream",
     "text": [
      "<class 'pandas.core.frame.DataFrame'>\n",
      "Int64Index: 714 entries, 0 to 890\n",
      "Data columns (total 10 columns):\n",
      " #   Column                   Non-Null Count  Dtype  \n",
      "---  ------                   --------------  -----  \n",
      " 0   survived                 714 non-null    int64  \n",
      " 1   pclass                   714 non-null    int64  \n",
      " 2   age                      714 non-null    float64\n",
      " 3   sibsp                    714 non-null    int64  \n",
      " 4   parch                    714 non-null    int64  \n",
      " 5   fare                     714 non-null    float64\n",
      " 6   alone                    714 non-null    int64  \n",
      " 7   sex_male                 714 non-null    uint8  \n",
      " 8   embark_town_Queenstown   714 non-null    uint8  \n",
      " 9   embark_town_Southampton  714 non-null    uint8  \n",
      "dtypes: float64(2), int64(5), uint8(3)\n",
      "memory usage: 46.7 KB\n"
     ]
    }
   ],
   "source": [
    "new_df = prepare.prep_titanic(df)\n",
    "new_df.info()"
   ]
  },
  {
   "cell_type": "code",
   "execution_count": 28,
   "id": "7b81b789-4846-484e-a55c-bef73b3cfe92",
   "metadata": {},
   "outputs": [
    {
     "name": "stdout",
     "output_type": "stream",
     "text": [
      "<class 'pandas.core.frame.DataFrame'>\n",
      "Int64Index: 399 entries, 652 to 834\n",
      "Data columns (total 10 columns):\n",
      " #   Column                   Non-Null Count  Dtype  \n",
      "---  ------                   --------------  -----  \n",
      " 0   survived                 399 non-null    int64  \n",
      " 1   pclass                   399 non-null    int64  \n",
      " 2   age                      399 non-null    float64\n",
      " 3   sibsp                    399 non-null    int64  \n",
      " 4   parch                    399 non-null    int64  \n",
      " 5   fare                     399 non-null    float64\n",
      " 6   alone                    399 non-null    int64  \n",
      " 7   sex_male                 399 non-null    uint8  \n",
      " 8   embark_town_Queenstown   399 non-null    uint8  \n",
      " 9   embark_town_Southampton  399 non-null    uint8  \n",
      "dtypes: float64(2), int64(5), uint8(3)\n",
      "memory usage: 26.1 KB\n"
     ]
    }
   ],
   "source": [
    "train, validate, test = prepare.titanic_split_data(new_df)\n",
    "train.info()"
   ]
  },
  {
   "cell_type": "code",
   "execution_count": 29,
   "id": "c0ca41c8-baa9-417c-86ca-c4cb60908699",
   "metadata": {},
   "outputs": [],
   "source": [
    "#Picked columns we going to use for x and y\n",
    "x_cols= ['pclass','age','fare']\n",
    "y_cols = 'survived'"
   ]
  },
  {
   "cell_type": "code",
   "execution_count": 30,
   "id": "cc35573c-59bc-420a-9ba0-add7deade571",
   "metadata": {},
   "outputs": [],
   "source": [
    "x_train, y_train = train[x_cols], train[y_cols]\n",
    "x_validate, y_validate = validate[x_cols], validate[y_cols]\n",
    "x_test, y_test = train[x_cols], train[y_cols]"
   ]
  },
  {
   "cell_type": "code",
   "execution_count": 31,
   "id": "c6b61b65-594b-4344-98a7-8b15b5e4f36c",
   "metadata": {},
   "outputs": [
    {
     "name": "stdout",
     "output_type": "stream",
     "text": [
      "<class 'pandas.core.frame.DataFrame'>\n",
      "Int64Index: 399 entries, 652 to 834\n",
      "Data columns (total 3 columns):\n",
      " #   Column  Non-Null Count  Dtype  \n",
      "---  ------  --------------  -----  \n",
      " 0   pclass  399 non-null    int64  \n",
      " 1   age     399 non-null    float64\n",
      " 2   fare    399 non-null    float64\n",
      "dtypes: float64(2), int64(1)\n",
      "memory usage: 12.5 KB\n"
     ]
    }
   ],
   "source": [
    "x_train.info()"
   ]
  },
  {
   "cell_type": "code",
   "execution_count": 32,
   "id": "e732a90d-c180-4440-80f6-49dc791ae4cb",
   "metadata": {},
   "outputs": [],
   "source": [
    "#the baselined is survived = 0\n",
    "train['baseline'] = 0"
   ]
  },
  {
   "cell_type": "code",
   "execution_count": 33,
   "id": "baed08e2-9336-42eb-b970-a7dd40877399",
   "metadata": {},
   "outputs": [
    {
     "name": "stdout",
     "output_type": "stream",
     "text": [
      "The baseline accuracy for nonsurvival in all cases on the Titanic Dataset is 0.594\n"
     ]
    }
   ],
   "source": [
    "print(f'The baseline accuracy for nonsurvival in all cases on the Titanic Dataset is {(train.baseline == train.survived).mean():.3}')"
   ]
  },
  {
   "cell_type": "code",
   "execution_count": 34,
   "id": "a49ba65f-8f24-4352-be76-42271ae880e8",
   "metadata": {},
   "outputs": [
    {
     "data": {
      "text/plain": [
       "LogisticRegression(random_state=123)"
      ]
     },
     "execution_count": 34,
     "metadata": {},
     "output_type": "execute_result"
    }
   ],
   "source": [
    "logit =LogisticRegression(C=1.0 , random_state=123)\n",
    "logit.fit(x_train, y_train)"
   ]
  },
  {
   "cell_type": "code",
   "execution_count": 35,
   "id": "f2638eb9-26eb-440f-b0fa-fd47e27a2654",
   "metadata": {},
   "outputs": [],
   "source": [
    "#use the model to make predictions\n",
    "y_pred = logit.predict(x_train)"
   ]
  },
  {
   "cell_type": "code",
   "execution_count": 36,
   "id": "8fcf23ef-c54b-4f3c-96ff-cf853922246d",
   "metadata": {},
   "outputs": [
    {
     "name": "stdout",
     "output_type": "stream",
     "text": [
      "Accuracy: 69.92%\n"
     ]
    }
   ],
   "source": [
    "print('Accuracy: {:.2%}'.format(logit.score(x_train, y_train)))"
   ]
  },
  {
   "cell_type": "code",
   "execution_count": 37,
   "id": "595c3fc3-cc6b-4f41-83ad-1395fbfceb88",
   "metadata": {},
   "outputs": [
    {
     "name": "stdout",
     "output_type": "stream",
     "text": [
      "              precision    recall  f1-score   support\n",
      "\n",
      "           0       0.72      0.82      0.76       237\n",
      "           1       0.66      0.52      0.59       162\n",
      "\n",
      "    accuracy                           0.70       399\n",
      "   macro avg       0.69      0.67      0.67       399\n",
      "weighted avg       0.69      0.70      0.69       399\n",
      "\n"
     ]
    }
   ],
   "source": [
    "print(classification_report(y_train, y_pred))"
   ]
  },
  {
   "cell_type": "code",
   "execution_count": 38,
   "id": "60a190e8-c524-42c7-ac25-1cb04822badd",
   "metadata": {},
   "outputs": [
    {
     "name": "stdout",
     "output_type": "stream",
     "text": [
      "training score: 69.92%\n",
      "validate score: 69.19%\n"
     ]
    }
   ],
   "source": [
    "print(f'training score: {logit.score(x_train, y_train):.2%}')\n",
    "print(f'validate score: {logit.score(x_validate, y_validate):.2%}')"
   ]
  },
  {
   "cell_type": "markdown",
   "id": "8039d88f-dd09-49cf-ad63-f7d633a1739f",
   "metadata": {},
   "source": [
    "### Include sex in your model as well. Note that you'll need to encode or create a dummy variable of this feature before including it in a model."
   ]
  },
  {
   "cell_type": "code",
   "execution_count": 39,
   "id": "731c23e4-026e-4f0a-bc52-150335c2d961",
   "metadata": {},
   "outputs": [],
   "source": [
    "x_cols = ['age','pclass', 'fare', 'sex_male']\n",
    "y_col = 'survived'\n",
    "\n",
    "x_train, y_train = train[x_cols], train[y_col]\n",
    "x_validate, y_validate = validate[x_cols], validate[y_col]\n",
    "x_test, y_test = test[x_cols], test[y_col]"
   ]
  },
  {
   "cell_type": "code",
   "execution_count": 40,
   "id": "bf613649-0db2-4750-8659-ba1c67bb4908",
   "metadata": {
    "tags": []
   },
   "outputs": [
    {
     "data": {
      "text/plain": [
       "LogisticRegression(random_state=123)"
      ]
     },
     "execution_count": 40,
     "metadata": {},
     "output_type": "execute_result"
    }
   ],
   "source": [
    "logit2 =LogisticRegression(C=1.0 , random_state=123)\n",
    "logit2.fit(x_train, y_train)"
   ]
  },
  {
   "cell_type": "code",
   "execution_count": 41,
   "id": "533281d3-92d1-497e-addb-49a2fb65a930",
   "metadata": {},
   "outputs": [
    {
     "name": "stdout",
     "output_type": "stream",
     "text": [
      "training score: 78.70%\n",
      "validate score: 76.74%\n"
     ]
    }
   ],
   "source": [
    "print(f'training score: {logit2.score(x_train, y_train):.2%}')\n",
    "print(f'validate score: {logit2.score(x_validate, y_validate):.2%}')"
   ]
  },
  {
   "cell_type": "code",
   "execution_count": 42,
   "id": "05721261-5489-4608-b1bd-00aa21ceaed6",
   "metadata": {},
   "outputs": [
    {
     "name": "stdout",
     "output_type": "stream",
     "text": [
      "              precision    recall  f1-score   support\n",
      "\n",
      "           0       0.72      0.82      0.76       237\n",
      "           1       0.66      0.52      0.59       162\n",
      "\n",
      "    accuracy                           0.70       399\n",
      "   macro avg       0.69      0.67      0.67       399\n",
      "weighted avg       0.69      0.70      0.69       399\n",
      "\n"
     ]
    }
   ],
   "source": [
    "print(classification_report(y_train, y_pred))"
   ]
  },
  {
   "cell_type": "markdown",
   "id": "9d006629-8cee-4f87-92ef-e17d3d8c941c",
   "metadata": {},
   "source": [
    "### Try out other combinations of features and models."
   ]
  },
  {
   "cell_type": "code",
   "execution_count": 131,
   "id": "77292c2a-dde0-4e58-95a2-8cbda0e41647",
   "metadata": {},
   "outputs": [],
   "source": [
    "x_cols = ['age','pclass', 'fare','sex_male', 'sibsp']\n",
    "y_col = 'survived'\n",
    "\n",
    "x_train, y_train = train[x_cols], train[y_col]\n",
    "x_validate, y_validate = validate[x_cols], validate[y_col]\n",
    "x_test, y_test = test[x_cols], test[y_col]"
   ]
  },
  {
   "cell_type": "code",
   "execution_count": 97,
   "id": "b084c6b2-e41c-4436-9f6c-b36d880eb0b7",
   "metadata": {},
   "outputs": [
    {
     "data": {
      "text/plain": [
       "LogisticRegression(random_state=123)"
      ]
     },
     "execution_count": 97,
     "metadata": {},
     "output_type": "execute_result"
    }
   ],
   "source": [
    "logit3 =LogisticRegression(C=1.0 , random_state=123)\n",
    "logit3.fit(x_train, y_train)"
   ]
  },
  {
   "cell_type": "code",
   "execution_count": 79,
   "id": "58a46fac-ee09-42f8-aaf8-b80094d419ce",
   "metadata": {},
   "outputs": [],
   "source": [
    "y_pred = logit3.predict(x_train)"
   ]
  },
  {
   "cell_type": "code",
   "execution_count": 80,
   "id": "4e571601-bf64-4e92-956e-e96b68d4bdf0",
   "metadata": {},
   "outputs": [
    {
     "name": "stdout",
     "output_type": "stream",
     "text": [
      "[[210  27]\n",
      " [ 47 115]]\n"
     ]
    }
   ],
   "source": [
    "print(confusion_matrix(y_train, y_pred))"
   ]
  },
  {
   "cell_type": "code",
   "execution_count": 81,
   "id": "288a5b58-92a1-447f-bd78-acff8af66ff8",
   "metadata": {},
   "outputs": [],
   "source": [
    "tp = 109\n",
    "tn = 123\n",
    "fp = 53\n",
    "fn = 114"
   ]
  },
  {
   "cell_type": "code",
   "execution_count": 82,
   "id": "b5adf36f-ca9c-429f-9e89-a421ea4a1977",
   "metadata": {},
   "outputs": [
    {
     "name": "stdout",
     "output_type": "stream",
     "text": [
      "Setting model 3\n",
      "---------------\n",
      "accuracy score is 0.8145363408521303\n",
      "true positive rate is 0.2731829573934837\n",
      "true negative rate is 0.3082706766917293\n",
      "false positive rate is 0.13283208020050125\n",
      "false negative rate is 0.2857142857142857\n",
      "recall score is 0.7098765432098766\n",
      "precision score is 0.8098591549295775\n",
      "f1 score is 0.756578947368421\n"
     ]
    }
   ],
   "source": [
    "print ('Setting model 3')\n",
    "print( '---------------')\n",
    "print(f'accuracy score is {accuracy_score(y_train, y_pred)}')\n",
    "print(f'true positive rate is {tp / (tn + tp+fn+fp)}')\n",
    "print(f'true negative rate is {tn / (tn + tp+fn+fp)}')\n",
    "print(f'false positive rate is {fp / (tn + tp+fn+fp)}')\n",
    "print(f'false negative rate is {fn / (tn + tp+fn+fp)}')\n",
    "print(f'recall score is {recall_score(y_train, y_pred)}')\n",
    "print(f'precision score is {precision_score(y_train, y_pred)}')\n",
    "print(f'f1 score is {f1_score(y_train, y_pred)}')"
   ]
  },
  {
   "cell_type": "code",
   "execution_count": 83,
   "id": "c87283b5-3ad0-42ff-875b-90e85dd4e6af",
   "metadata": {},
   "outputs": [
    {
     "name": "stdout",
     "output_type": "stream",
     "text": [
      "training score: 81.45%\n",
      "validate score: 78.49%\n"
     ]
    }
   ],
   "source": [
    "print(f'training score: {logit3.score(x_train, y_train):.2%}')\n",
    "print(f'validate score: {logit3.score(x_validate, y_validate):.2%}')"
   ]
  },
  {
   "cell_type": "code",
   "execution_count": 117,
   "id": "c79c9d68-b8cb-494d-b26d-65b4e608c424",
   "metadata": {},
   "outputs": [],
   "source": [
    "x_cols = ['age','pclass', 'fare', 'sibsp','parch']\n",
    "y_col = 'survived'\n",
    "\n",
    "x_train, y_train = train[x_cols], train[y_col]\n",
    "x_validate, y_validate = validate[x_cols], validate[y_col]\n",
    "x_test, y_test = test[x_cols], test[y_col]"
   ]
  },
  {
   "cell_type": "code",
   "execution_count": 54,
   "id": "e2efa797-7e26-4300-b236-37dd64245bba",
   "metadata": {},
   "outputs": [
    {
     "data": {
      "text/plain": [
       "LogisticRegression(class_weight='balanced', random_state=123)"
      ]
     },
     "execution_count": 54,
     "metadata": {},
     "output_type": "execute_result"
    }
   ],
   "source": [
    "logit4 =LogisticRegression(C=1.0 ,class_weight='balanced' , random_state=123)\n",
    "logit4.fit(x_train, y_train)"
   ]
  },
  {
   "cell_type": "code",
   "execution_count": 84,
   "id": "a68c9e87-ffd8-409e-a4e8-201601908ef1",
   "metadata": {},
   "outputs": [],
   "source": [
    "y_pred = logit4.predict(x_train)"
   ]
  },
  {
   "cell_type": "code",
   "execution_count": 85,
   "id": "b2c143e3-56db-4114-af96-e2e5eafa91de",
   "metadata": {},
   "outputs": [
    {
     "name": "stdout",
     "output_type": "stream",
     "text": [
      "[[171  66]\n",
      " [ 49 113]]\n"
     ]
    }
   ],
   "source": [
    "print(confusion_matrix(y_train, y_pred))"
   ]
  },
  {
   "cell_type": "code",
   "execution_count": 86,
   "id": "9bce69ac-05f0-4b67-9f8e-362da3d687cc",
   "metadata": {},
   "outputs": [],
   "source": [
    "tp = 113\n",
    "tn = 171\n",
    "fp = 49\n",
    "fn = 66"
   ]
  },
  {
   "cell_type": "code",
   "execution_count": 87,
   "id": "c47e7ba3-8747-4fad-9362-de262022b16e",
   "metadata": {},
   "outputs": [
    {
     "name": "stdout",
     "output_type": "stream",
     "text": [
      "training score: 71.18%\n",
      "validate score: 68.60%\n"
     ]
    }
   ],
   "source": [
    "print(f'training score: {logit4.score(x_train, y_train):.2%}')\n",
    "print(f'validate score: {logit4.score(x_validate, y_validate):.2%}')"
   ]
  },
  {
   "cell_type": "code",
   "execution_count": 88,
   "id": "9edb146d-c321-4b24-b153-7c5127550940",
   "metadata": {},
   "outputs": [
    {
     "name": "stdout",
     "output_type": "stream",
     "text": [
      "Setting model 4\n",
      "---------------\n",
      "accuracy score is 0.7117794486215538\n",
      "true positive rate is 0.2832080200501253\n",
      "true negative rate is 0.42857142857142855\n",
      "false positive rate is 0.12280701754385964\n",
      "false negative rate is 0.16541353383458646\n",
      "recall score is 0.6975308641975309\n",
      "precision score is 0.6312849162011173\n",
      "f1 score is 0.6627565982404693\n"
     ]
    }
   ],
   "source": [
    "print ('Setting model 4')\n",
    "print( '---------------')\n",
    "print(f'accuracy score is {accuracy_score(y_train, y_pred)}')\n",
    "print(f'true positive rate is {tp / (tn + tp+fn+fp)}')\n",
    "print(f'true negative rate is {tn / (tn + tp+fn+fp)}')\n",
    "print(f'false positive rate is {fp / (tn + tp+fn+fp)}')\n",
    "print(f'false negative rate is {fn / (tn + tp+fn+fp)}')\n",
    "print(f'recall score is {recall_score(y_train, y_pred)}')\n",
    "print(f'precision score is {precision_score(y_train, y_pred)}')\n",
    "print(f'f1 score is {f1_score(y_train, y_pred)}')"
   ]
  },
  {
   "cell_type": "code",
   "execution_count": 137,
   "id": "ed281bdd-8a9b-486a-98c6-6fd66485d6bb",
   "metadata": {},
   "outputs": [],
   "source": [
    "x_cols = ['age','pclass', 'fare', 'sibsp','alone']\n",
    "y_col = 'survived'\n",
    "\n",
    "x_train, y_train = train[x_cols], train[y_col]\n",
    "x_validate, y_validate = validate[x_cols], validate[y_col]\n",
    "x_test, y_test = test[x_cols], test[y_col]"
   ]
  },
  {
   "cell_type": "code",
   "execution_count": 90,
   "id": "3fdbf9ed-ca77-4951-b81a-3865bee5e734",
   "metadata": {},
   "outputs": [
    {
     "data": {
      "text/plain": [
       "LogisticRegression(class_weight='balanced', random_state=123)"
      ]
     },
     "execution_count": 90,
     "metadata": {},
     "output_type": "execute_result"
    }
   ],
   "source": [
    "logit5 =LogisticRegression(C=1.0 ,class_weight='balanced' , random_state=123)\n",
    "logit5.fit(x_train, y_train)"
   ]
  },
  {
   "cell_type": "code",
   "execution_count": 91,
   "id": "25093f55-114b-4583-84b5-5e6b56822a3f",
   "metadata": {},
   "outputs": [],
   "source": [
    "y_pred = logit5.predict(x_train)"
   ]
  },
  {
   "cell_type": "code",
   "execution_count": 92,
   "id": "fd1d2825-aa05-4d58-b6e6-90d5a303313c",
   "metadata": {},
   "outputs": [
    {
     "name": "stdout",
     "output_type": "stream",
     "text": [
      "[[177  60]\n",
      " [ 52 110]]\n"
     ]
    }
   ],
   "source": [
    "print(confusion_matrix(y_train, y_pred))"
   ]
  },
  {
   "cell_type": "code",
   "execution_count": 93,
   "id": "5f5cdf1e-ed3d-4e08-87f3-188228766602",
   "metadata": {},
   "outputs": [],
   "source": [
    "tp = 177\n",
    "tn = 171\n",
    "fp = 52\n",
    "fn = 60"
   ]
  },
  {
   "cell_type": "code",
   "execution_count": 94,
   "id": "f5899fa8-fe11-418c-91d0-558962936f36",
   "metadata": {},
   "outputs": [
    {
     "name": "stdout",
     "output_type": "stream",
     "text": [
      "Setting model 5\n",
      "---------------\n",
      "accuracy score is 0.7192982456140351\n",
      "true positive rate is 0.3847826086956522\n",
      "true negative rate is 0.3717391304347826\n",
      "false positive rate is 0.11304347826086956\n",
      "false negative rate is 0.13043478260869565\n",
      "recall score is 0.6790123456790124\n",
      "precision score is 0.6470588235294118\n",
      "f1 score is 0.6626506024096386\n"
     ]
    }
   ],
   "source": [
    "print ('Setting model 5')\n",
    "print( '---------------')\n",
    "print(f'accuracy score is {accuracy_score(y_train, y_pred)}')\n",
    "print(f'true positive rate is {tp / (tn + tp+fn+fp)}')\n",
    "print(f'true negative rate is {tn / (tn + tp+fn+fp)}')\n",
    "print(f'false positive rate is {fp / (tn + tp+fn+fp)}')\n",
    "print(f'false negative rate is {fn / (tn + tp+fn+fp)}')\n",
    "print(f'recall score is {recall_score(y_train, y_pred)}')\n",
    "print(f'precision score is {precision_score(y_train, y_pred)}')\n",
    "print(f'f1 score is {f1_score(y_train, y_pred)}')"
   ]
  },
  {
   "cell_type": "code",
   "execution_count": 95,
   "id": "1b2b6e63-1add-4a0b-8d94-c7b65f52eb55",
   "metadata": {},
   "outputs": [
    {
     "name": "stdout",
     "output_type": "stream",
     "text": [
      "training score: 71.93%\n",
      "validate score: 68.60%\n"
     ]
    }
   ],
   "source": [
    "print(f'training score: {logit5.score(x_train, y_train):.2%}')\n",
    "print(f'validate score: {logit5.score(x_validate, y_validate):.2%}')"
   ]
  },
  {
   "cell_type": "markdown",
   "id": "32265967-0fe6-477e-8db4-e95c75774825",
   "metadata": {
    "tags": []
   },
   "source": [
    "### Use you best 3 models to predict and evaluate on your validate sample."
   ]
  },
  {
   "cell_type": "code",
   "execution_count": 101,
   "id": "38e3084d-c6b3-407e-9d57-b908c50ab75e",
   "metadata": {},
   "outputs": [
    {
     "data": {
      "text/plain": [
       "LogisticRegression(random_state=123)"
      ]
     },
     "execution_count": 101,
     "metadata": {},
     "output_type": "execute_result"
    }
   ],
   "source": [
    "logit3 =LogisticRegression(C=1.0 , random_state=123)\n",
    "logit3.fit(x_validate, y_validate)"
   ]
  },
  {
   "cell_type": "code",
   "execution_count": 102,
   "id": "e11372ef-c512-47b2-85b1-bd4430af6364",
   "metadata": {},
   "outputs": [],
   "source": [
    "y_pred = logit3.predict(x_validate)"
   ]
  },
  {
   "cell_type": "code",
   "execution_count": 104,
   "id": "2e308be8-d45a-4872-bb27-5f7008cec17b",
   "metadata": {},
   "outputs": [
    {
     "name": "stdout",
     "output_type": "stream",
     "text": [
      "[[89 13]\n",
      " [25 45]]\n"
     ]
    }
   ],
   "source": [
    "print(confusion_matrix(y_validate, y_pred))"
   ]
  },
  {
   "cell_type": "code",
   "execution_count": 66,
   "id": "17c837fa-6dfe-4d95-a5ac-23a23d00f764",
   "metadata": {},
   "outputs": [],
   "source": [
    "tp = 45\n",
    "tn = 89\n",
    "fp = 25\n",
    "fn = 13"
   ]
  },
  {
   "cell_type": "code",
   "execution_count": 106,
   "id": "6f431126-178c-4293-8352-68483d850d3c",
   "metadata": {},
   "outputs": [
    {
     "name": "stdout",
     "output_type": "stream",
     "text": [
      "Setting model 3 for validate\n",
      "---------------\n",
      "accuracy score is 0.7790697674418605\n",
      "true positive rate is 0.3847826086956522\n",
      "true negative rate is 0.3717391304347826\n",
      "false positive rate is 0.11304347826086956\n",
      "false negative rate is 0.13043478260869565\n",
      "recall score is 0.6428571428571429\n",
      "precision score is 0.7758620689655172\n",
      "f1 score is 0.703125\n"
     ]
    }
   ],
   "source": [
    "print ('Setting model 3 for validate')\n",
    "print( '---------------')\n",
    "print(f'accuracy score is {accuracy_score(y_validate, y_pred)}')\n",
    "print(f'true positive rate is {tp / (tn + tp+fn+fp)}')\n",
    "print(f'true negative rate is {tn / (tn + tp+fn+fp)}')\n",
    "print(f'false positive rate is {fp / (tn + tp+fn+fp)}')\n",
    "print(f'false negative rate is {fn / (tn + tp+fn+fp)}')\n",
    "print(f'recall score is {recall_score(y_validate, y_pred)}')\n",
    "print(f'precision score is {precision_score(y_validate, y_pred)}')\n",
    "print(f'f1 score is {f1_score(y_validate, y_pred)}')"
   ]
  },
  {
   "cell_type": "code",
   "execution_count": 122,
   "id": "cc296c26-32d9-4aea-bf5c-e8cbc2b9e466",
   "metadata": {},
   "outputs": [
    {
     "data": {
      "text/plain": [
       "LogisticRegression(class_weight='balanced', random_state=123)"
      ]
     },
     "execution_count": 122,
     "metadata": {},
     "output_type": "execute_result"
    }
   ],
   "source": [
    "logit4 =LogisticRegression(C=1.0 ,class_weight='balanced' , random_state=123)\n",
    "logit4.fit(x_validate, y_validate)"
   ]
  },
  {
   "cell_type": "code",
   "execution_count": 123,
   "id": "6fcb6e46-a5ca-4b73-9df9-de4d6cfa1b93",
   "metadata": {},
   "outputs": [
    {
     "name": "stdout",
     "output_type": "stream",
     "text": [
      "[[75 27]\n",
      " [23 47]]\n"
     ]
    }
   ],
   "source": [
    "y_pred = logit4.predict(x_validate)\n",
    "print(confusion_matrix(y_validate, y_pred))"
   ]
  },
  {
   "cell_type": "code",
   "execution_count": 124,
   "id": "449ff44e-d9aa-4049-8ca8-e6e1ee2fcdef",
   "metadata": {},
   "outputs": [],
   "source": [
    "tp = 47\n",
    "tn = 75\n",
    "fp = 27\n",
    "fn = 23"
   ]
  },
  {
   "cell_type": "code",
   "execution_count": 125,
   "id": "32c0ded2-cd97-4045-a093-7f8d0960582e",
   "metadata": {},
   "outputs": [
    {
     "name": "stdout",
     "output_type": "stream",
     "text": [
      "Setting model 4 for validate\n",
      "---------------\n",
      "accuracy score is 0.7093023255813954\n",
      "true positive rate is 0.27325581395348836\n",
      "true negative rate is 0.436046511627907\n",
      "false positive rate is 0.1569767441860465\n",
      "false negative rate is 0.13372093023255813\n",
      "recall score is 0.6714285714285714\n",
      "precision score is 0.6351351351351351\n",
      "f1 score is 0.6527777777777778\n"
     ]
    }
   ],
   "source": [
    "print ('Setting model 4 for validate')\n",
    "print( '---------------')\n",
    "print(f'accuracy score is {accuracy_score(y_validate, y_pred)}')\n",
    "print(f'true positive rate is {tp / (tn + tp+fn+fp)}')\n",
    "print(f'true negative rate is {tn / (tn + tp+fn+fp)}')\n",
    "print(f'false positive rate is {fp / (tn + tp+fn+fp)}')\n",
    "print(f'false negative rate is {fn / (tn + tp+fn+fp)}')\n",
    "print(f'recall score is {recall_score(y_validate, y_pred)}')\n",
    "print(f'precision score is {precision_score(y_validate, y_pred)}')\n",
    "print(f'f1 score is {f1_score(y_validate, y_pred)}')"
   ]
  },
  {
   "cell_type": "code",
   "execution_count": 138,
   "id": "1f729102-8c1c-416d-8c58-c051ae39ce81",
   "metadata": {},
   "outputs": [
    {
     "data": {
      "text/plain": [
       "LogisticRegression(class_weight='balanced', random_state=123)"
      ]
     },
     "execution_count": 138,
     "metadata": {},
     "output_type": "execute_result"
    }
   ],
   "source": [
    "logit5 =LogisticRegression(C=1.0 ,class_weight='balanced' , random_state=123)\n",
    "logit5.fit(x_validate, y_validate)"
   ]
  },
  {
   "cell_type": "code",
   "execution_count": 139,
   "id": "ffab1e9a-2adf-4337-a1da-fe159a0a3d8f",
   "metadata": {},
   "outputs": [
    {
     "name": "stdout",
     "output_type": "stream",
     "text": [
      "[[80 22]\n",
      " [26 44]]\n"
     ]
    }
   ],
   "source": [
    "y_pred = logit5.predict(x_validate)\n",
    "print(confusion_matrix(y_validate, y_pred))"
   ]
  },
  {
   "cell_type": "code",
   "execution_count": 140,
   "id": "8f73a666-7020-487f-a156-f06a92aff3d7",
   "metadata": {},
   "outputs": [],
   "source": [
    "tp = 44\n",
    "tn = 80\n",
    "fp = 26\n",
    "fn = 22"
   ]
  },
  {
   "cell_type": "code",
   "execution_count": 141,
   "id": "9ce0d945-b263-4fdc-bd53-ded1f108f448",
   "metadata": {},
   "outputs": [
    {
     "name": "stdout",
     "output_type": "stream",
     "text": [
      "Setting model 5 for validate\n",
      "---------------\n",
      "accuracy score is 0.7209302325581395\n",
      "true positive rate is 0.2558139534883721\n",
      "true negative rate is 0.46511627906976744\n",
      "false positive rate is 0.1511627906976744\n",
      "false negative rate is 0.12790697674418605\n",
      "recall score is 0.6285714285714286\n",
      "precision score is 0.6666666666666666\n",
      "f1 score is 0.6470588235294118\n"
     ]
    }
   ],
   "source": [
    "print ('Setting model 5 for validate')\n",
    "print( '---------------')\n",
    "print(f'accuracy score is {accuracy_score(y_validate, y_pred)}')\n",
    "print(f'true positive rate is {tp / (tn + tp+fn+fp)}')\n",
    "print(f'true negative rate is {tn / (tn + tp+fn+fp)}')\n",
    "print(f'false positive rate is {fp / (tn + tp+fn+fp)}')\n",
    "print(f'false negative rate is {fn / (tn + tp+fn+fp)}')\n",
    "print(f'recall score is {recall_score(y_validate, y_pred)}')\n",
    "print(f'precision score is {precision_score(y_validate, y_pred)}')\n",
    "print(f'f1 score is {f1_score(y_validate, y_pred)}')"
   ]
  },
  {
   "cell_type": "markdown",
   "id": "4072d994-fb72-45d6-81e3-46bcbd5d727c",
   "metadata": {},
   "source": [
    "### Choose you best model from the validation performation, and evaluate it on the test dataset. How do the performance metrics compare to validate? to train?"
   ]
  },
  {
   "cell_type": "code",
   "execution_count": 132,
   "id": "5b77c864-4e5f-45bf-b7b5-04cea453dac6",
   "metadata": {},
   "outputs": [
    {
     "data": {
      "text/plain": [
       "LogisticRegression(random_state=123)"
      ]
     },
     "execution_count": 132,
     "metadata": {},
     "output_type": "execute_result"
    }
   ],
   "source": [
    "#Model 3 has the best accuracy\n",
    "logit3 =LogisticRegression(C=1.0 , random_state=123)\n",
    "logit3.fit(x_test, y_test)"
   ]
  },
  {
   "cell_type": "code",
   "execution_count": 135,
   "id": "8e4ca758-cc98-4185-98fe-c0ca412b4eae",
   "metadata": {},
   "outputs": [
    {
     "name": "stdout",
     "output_type": "stream",
     "text": [
      "[[74 11]\n",
      " [10 48]]\n"
     ]
    }
   ],
   "source": [
    "y_pred = logit3.predict(x_test)\n",
    "print(confusion_matrix(y_test, y_pred))"
   ]
  },
  {
   "cell_type": "code",
   "execution_count": 142,
   "id": "e3373e5b-a32e-41f3-accd-e04877d2da0a",
   "metadata": {},
   "outputs": [],
   "source": [
    "tp = 48\n",
    "tn = 74\n",
    "fp = 10\n",
    "fn = 11"
   ]
  },
  {
   "cell_type": "code",
   "execution_count": 143,
   "id": "1755c0e0-e9f9-4ce0-9619-5b77d16ed9ba",
   "metadata": {},
   "outputs": [
    {
     "name": "stdout",
     "output_type": "stream",
     "text": [
      "Setting model 3 for test\n",
      "---------------\n",
      "accuracy score is 0.7209302325581395\n",
      "true positive rate is 0.3356643356643357\n",
      "true negative rate is 0.5174825174825175\n",
      "false positive rate is 0.06993006993006994\n",
      "false negative rate is 0.07692307692307693\n",
      "recall score is 0.6285714285714286\n",
      "precision score is 0.6666666666666666\n",
      "f1 score is 0.6470588235294118\n"
     ]
    }
   ],
   "source": [
    "print ('Setting model 3 for test')\n",
    "print( '---------------')\n",
    "print(f'accuracy score is {accuracy_score(y_validate, y_pred)}')\n",
    "print(f'true positive rate is {tp / (tn + tp+fn+fp)}')\n",
    "print(f'true negative rate is {tn / (tn + tp+fn+fp)}')\n",
    "print(f'false positive rate is {fp / (tn + tp+fn+fp)}')\n",
    "print(f'false negative rate is {fn / (tn + tp+fn+fp)}')\n",
    "print(f'recall score is {recall_score(y_validate, y_pred)}')\n",
    "print(f'precision score is {precision_score(y_validate, y_pred)}')\n",
    "print(f'f1 score is {f1_score(y_validate, y_pred)}')"
   ]
  },
  {
   "cell_type": "code",
   "execution_count": null,
   "id": "989e5420-04c2-4f72-8b55-1d6cb426f9b8",
   "metadata": {},
   "outputs": [],
   "source": [
    "We can see a drop off in accuracy score from 78% validate sample to 72% test sample. But "
   ]
  }
 ],
 "metadata": {
  "kernelspec": {
   "display_name": "Python 3 (ipykernel)",
   "language": "python",
   "name": "python3"
  },
  "language_info": {
   "codemirror_mode": {
    "name": "ipython",
    "version": 3
   },
   "file_extension": ".py",
   "mimetype": "text/x-python",
   "name": "python",
   "nbconvert_exporter": "python",
   "pygments_lexer": "ipython3",
   "version": "3.9.7"
  }
 },
 "nbformat": 4,
 "nbformat_minor": 5
}
