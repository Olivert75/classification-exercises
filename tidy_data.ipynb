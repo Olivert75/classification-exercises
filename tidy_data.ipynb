{
 "cells": [
  {
   "cell_type": "markdown",
   "id": "35e2d6f1",
   "metadata": {},
   "source": [
    "## 1. Attendance Data\n",
    "\n",
    "    Read the data from the attendance table and calculate an attendance percentage for each student. One half day is worth 50% of a full day, and 10 tardies is equal to one absence.\n",
    "\n",
    "    You should end up with something like this:\n",
    "- name\n",
    "- Billy    0.5250\n",
    "- Jane     0.6875\n",
    "- John     0.9125\n",
    "- Sally    0.7625\n",
    "- Name: grade, dtype: float64"
   ]
  },
  {
   "cell_type": "code",
   "execution_count": null,
   "id": "855c4c72",
   "metadata": {},
   "outputs": [],
   "source": []
  },
  {
   "cell_type": "markdown",
   "id": "ecdb9bde",
   "metadata": {},
   "source": [
    "## Coffee Levels\n",
    "    \n",
    "    Read the coffee_levels table.\n",
    "    \n",
    "    Transform the data so that each carafe is in it's own column.\n",
    "    \n",
    "    Is this the best shape for the data?"
   ]
  },
  {
   "cell_type": "code",
   "execution_count": null,
   "id": "713582b2",
   "metadata": {},
   "outputs": [],
   "source": []
  },
  {
   "cell_type": "markdown",
   "id": "0c9f09df",
   "metadata": {},
   "source": [
    "## Cake Recipes\n",
    "\n",
    "    Read the cake_recipes table. This data set contains cake tastiness scores for combinations of different recipes, oven rack positions, and oven temperatures.\n",
    "    \n",
    "    Tidy the data as necessary.\n",
    "    \n",
    "    Which recipe, on average, is the best? recipe b\n",
    "    \n",
    "    Which oven temperature, on average, produces the best results? 275\n",
    "    \n",
    "    Which combination of recipe, rack position, and temperature gives the best result?    recipe b, bottom rack, 300 degrees"
   ]
  },
  {
   "cell_type": "code",
   "execution_count": null,
   "id": "a19070f0",
   "metadata": {},
   "outputs": [],
   "source": []
  }
 ],
 "metadata": {
  "kernelspec": {
   "display_name": "Python 3 (ipykernel)",
   "language": "python",
   "name": "python3"
  },
  "language_info": {
   "codemirror_mode": {
    "name": "ipython",
    "version": 3
   },
   "file_extension": ".py",
   "mimetype": "text/x-python",
   "name": "python",
   "nbconvert_exporter": "python",
   "pygments_lexer": "ipython3",
   "version": "3.9.7"
  }
 },
 "nbformat": 4,
 "nbformat_minor": 5
}
